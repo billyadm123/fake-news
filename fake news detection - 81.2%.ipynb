{
 "cells": [
  {
   "cell_type": "code",
   "execution_count": 1,
   "metadata": {},
   "outputs": [
    {
     "name": "stderr",
     "output_type": "stream",
     "text": [
      "C:\\Users\\willi\\Anaconda3\\lib\\site-packages\\numpy\\_distributor_init.py:32: UserWarning: loaded more than 1 DLL from .libs:\n",
      "C:\\Users\\willi\\Anaconda3\\lib\\site-packages\\numpy\\.libs\\libopenblas.NOIJJG62EMASZI6NYURL6JBKM4EVBGM7.gfortran-win_amd64.dll\n",
      "C:\\Users\\willi\\Anaconda3\\lib\\site-packages\\numpy\\.libs\\libopenblas.XWYDX2IKJW2NMTWSFYNGFUWKQU3LYTCZ.gfortran-win_amd64.dll\n",
      "  stacklevel=1)\n",
      "C:\\Users\\willi\\Anaconda3\\lib\\site-packages\\statsmodels\\tools\\_testing.py:19: FutureWarning: pandas.util.testing is deprecated. Use the functions in the public API at pandas.testing instead.\n",
      "  import pandas.util.testing as tm\n"
     ]
    }
   ],
   "source": [
    "import seaborn as sns\n",
    "import numpy as np\n",
    "import matplotlib.pyplot as plt\n",
    "%matplotlib inline\n",
    "import pandas as pd\n",
    "pd.set_option('Display.max_colwidth', None)\n",
    "df = pd.read_csv('news.csv')"
   ]
  },
  {
   "cell_type": "code",
   "execution_count": 2,
   "metadata": {},
   "outputs": [
    {
     "data": {
      "text/plain": [
       "6335"
      ]
     },
     "execution_count": 2,
     "metadata": {},
     "output_type": "execute_result"
    }
   ],
   "source": [
    "len(df)"
   ]
  },
  {
   "cell_type": "code",
   "execution_count": 3,
   "metadata": {},
   "outputs": [
    {
     "data": {
      "text/plain": [
       "<AxesSubplot:>"
      ]
     },
     "execution_count": 3,
     "metadata": {},
     "output_type": "execute_result"
    },
    {
     "data": {
      "image/png": "[encoded data removed]",
      "text/plain": [
       "<Figure size 432x288 with 1 Axes>"
      ]
     },
     "metadata": {
      "needs_background": "light"
     },
     "output_type": "display_data"
    }
   ],
   "source": [
    "df['label'].hist()"
   ]
  },
  {
   "cell_type": "code",
   "execution_count": 5,
   "metadata": {},
   "outputs": [
    {
     "name": "stderr",
     "output_type": "stream",
     "text": [
      "[nltk_data] Downloading package wordnet to\n",
      "[nltk_data]     C:\\Users\\willi\\AppData\\Roaming\\nltk_data...\n",
      "[nltk_data]   Package wordnet is already up-to-date!\n",
      "[nltk_data] Error loading Punkt: Package 'Punkt' not found in index\n"
     ]
    }
   ],
   "source": [
    "import re\n",
    "import nltk\n",
    "from nltk.tag import pos_tag\n",
    "from nltk.tokenize import word_tokenize\n",
    "from nltk import RegexpParser\n",
    "from nltk.corpus import stopwords\n",
    "nltk.download('wordnet')\n",
    "nltk.download('Punkt')\n",
    "import string"
   ]
  },
  {
   "cell_type": "code",
   "execution_count": 6,
   "metadata": {},
   "outputs": [],
   "source": [
    "def lower(text):\n",
    "    new_text = text.lower()\n",
    "    return new_text"
   ]
  },
  {
   "cell_type": "code",
   "execution_count": 7,
   "metadata": {},
   "outputs": [],
   "source": [
    "def remove_punc(text):\n",
    "    new_text = re.sub(r'[^\\w\\s]', '',text)\n",
    "    return new_text    "
   ]
  },
  {
   "cell_type": "code",
   "execution_count": 8,
   "metadata": {},
   "outputs": [],
   "source": [
    "def remove_stopwords(text):\n",
    "    stop = set(stopwords.words('english'))\n",
    "    new_text = ' '.join(word for word in text.split() if word not in stop)\n",
    "    return new_text"
   ]
  },
  {
   "cell_type": "code",
   "execution_count": 9,
   "metadata": {},
   "outputs": [],
   "source": [
    "def tokens(text):\n",
    "    new_text = nltk.word_tokenize(text)\n",
    "    new_text = ' '.join(new_text)\n",
    "    return new_text"
   ]
  },
  {
   "cell_type": "code",
   "execution_count": 10,
   "metadata": {},
   "outputs": [],
   "source": [
    "def sent_tokens(text):\n",
    "    new_text = nltk.sent_tokenize(text)\n",
    "    new_text = ' '.join(new_text)\n",
    "    return new_text"
   ]
  },
  {
   "cell_type": "code",
   "execution_count": 11,
   "metadata": {},
   "outputs": [],
   "source": [
    "df['new_title'] = df['title'].apply(lambda x: x.lower())"
   ]
  },
  {
   "cell_type": "code",
   "execution_count": 12,
   "metadata": {},
   "outputs": [],
   "source": [
    "df['new_title'] = df['new_title'].apply(remove_punc)"
   ]
  },
  {
   "cell_type": "code",
   "execution_count": 13,
   "metadata": {},
   "outputs": [],
   "source": [
    "df['new_title'] = df['new_title'].apply(remove_stopwords)"
   ]
  },
  {
   "cell_type": "code",
   "execution_count": 14,
   "metadata": {},
   "outputs": [],
   "source": [
    "df['new_text'] = df['text'].apply(lambda x: x.lower())"
   ]
  },
  {
   "cell_type": "code",
   "execution_count": 15,
   "metadata": {},
   "outputs": [],
   "source": [
    "df['new_text'] = df['new_text'].apply(remove_punc)"
   ]
  },
  {
   "cell_type": "code",
   "execution_count": 16,
   "metadata": {},
   "outputs": [],
   "source": [
    "df['new_text'] = df['new_text'].apply(remove_stopwords)"
   ]
  },
  {
   "cell_type": "code",
   "execution_count": 17,
   "metadata": {},
   "outputs": [],
   "source": [
    "df['new_title'] = df['new_title'].apply(tokens)"
   ]
  },
  {
   "cell_type": "code",
   "execution_count": 19,
   "metadata": {},
   "outputs": [],
   "source": [
    "df['new_text'] = df['new_text'].apply(sent_tokens)"
   ]
  },
  {
   "cell_type": "code",
   "execution_count": 20,
   "metadata": {},
   "outputs": [],
   "source": [
    "df['new_text'] = df['new_text'].apply(tokens)"
   ]
  },
  {
   "cell_type": "code",
   "execution_count": 29,
   "metadata": {},
   "outputs": [],
   "source": [
    "# ## wordcloud more detailed after tokenization\n",
    "# import wordcloud\n",
    "# from wordcloud import WordCloud, STOPWORDS,ImageColorGenerator\n",
    "# from PIL import Image"
   ]
  },
  {
   "cell_type": "code",
   "execution_count": 30,
   "metadata": {},
   "outputs": [],
   "source": [
    "# stopwords = set(STOPWORDS)"
   ]
  },
  {
   "cell_type": "code",
   "execution_count": 31,
   "metadata": {},
   "outputs": [],
   "source": [
    "# fake_text = df[df['label'] == 'FAKE']"
   ]
  },
  {
   "cell_type": "code",
   "execution_count": 32,
   "metadata": {},
   "outputs": [],
   "source": [
    "# real_text = df[df['label'] == 'REAL']"
   ]
  },
  {
   "cell_type": "code",
   "execution_count": 33,
   "metadata": {},
   "outputs": [],
   "source": [
    "# real_txt = real_text['new_text']"
   ]
  },
  {
   "cell_type": "code",
   "execution_count": 34,
   "metadata": {},
   "outputs": [],
   "source": [
    "# real_title = real_text['new_title']"
   ]
  },
  {
   "cell_type": "code",
   "execution_count": 35,
   "metadata": {},
   "outputs": [],
   "source": [
    "# real_title = str(real_title)"
   ]
  },
  {
   "cell_type": "code",
   "execution_count": 36,
   "metadata": {},
   "outputs": [],
   "source": [
    "# real_txt = str(real_txt)"
   ]
  },
  {
   "cell_type": "code",
   "execution_count": 37,
   "metadata": {},
   "outputs": [],
   "source": [
    "# fake_txt = fake_text['new_text']"
   ]
  },
  {
   "cell_type": "code",
   "execution_count": 38,
   "metadata": {},
   "outputs": [],
   "source": [
    "# fake_title = fake_text['new_title']"
   ]
  },
  {
   "cell_type": "code",
   "execution_count": 39,
   "metadata": {},
   "outputs": [],
   "source": [
    "# fake_title = str(fake_title)"
   ]
  },
  {
   "cell_type": "code",
   "execution_count": 40,
   "metadata": {},
   "outputs": [],
   "source": [
    "# fake_txt = str(fake_txt)"
   ]
  },
  {
   "cell_type": "code",
   "execution_count": 21,
   "metadata": {},
   "outputs": [],
   "source": [
    "# plt.figure(figsize=(15,12))\n",
    "# wc = WordCloud().generate(fake_txt)\n",
    "# plt.imshow(wc, interpolation='bilinear' )\n",
    "# plt.axis('off')\n",
    "# plt.title('Fake article')\n",
    "# plt.show()\n",
    "\n",
    "# plt.figure(figsize=(15,12))\n",
    "# wc = WordCloud().generate(fake_title)\n",
    "# plt.imshow(wc, interpolation='bilinear' )\n",
    "# plt.axis('off')\n",
    "# plt.title('Fake title')\n",
    "# plt.show()"
   ]
  },
  {
   "cell_type": "code",
   "execution_count": 22,
   "metadata": {},
   "outputs": [],
   "source": [
    "# plt.figure(figsize=(15,12))\n",
    "# wc = WordCloud(stopwords=stopwords).generate(real_txt)\n",
    "# plt.imshow(wc, interpolation='bilinear' )\n",
    "# plt.axis('off')\n",
    "# plt.title('Real article')\n",
    "# plt.show()\n",
    "\n",
    "# plt.figure(figsize=(15,12))\n",
    "# wc = WordCloud(stopwords=stopwords).generate(real_title)\n",
    "# plt.imshow(wc, interpolation='bilinear' )\n",
    "# plt.axis('off')\n",
    "# plt.title(\"Real title\")\n",
    "# plt.show()"
   ]
  },
  {
   "cell_type": "code",
   "execution_count": 23,
   "metadata": {},
   "outputs": [],
   "source": [
    "training_data = df[['new_title','label']]"
   ]
  },
  {
   "cell_type": "code",
   "execution_count": 24,
   "metadata": {},
   "outputs": [
    {
     "data": {
      "text/html": [
       "<div>\n",
       "<style scoped>\n",
       "    .dataframe tbody tr th:only-of-type {\n",
       "        vertical-align: middle;\n",
       "    }\n",
       "\n",
       "    .dataframe tbody tr th {\n",
       "        vertical-align: top;\n",
       "    }\n",
       "\n",
       "    .dataframe thead th {\n",
       "        text-align: right;\n",
       "    }\n",
       "</style>\n",
       "<table border=\"1\" class=\"dataframe\">\n",
       "  <thead>\n",
       "    <tr style=\"text-align: right;\">\n",
       "      <th></th>\n",
       "      <th>new_title</th>\n",
       "      <th>label</th>\n",
       "    </tr>\n",
       "  </thead>\n",
       "  <tbody>\n",
       "    <tr>\n",
       "      <th>0</th>\n",
       "      <td>smell hillarys fear</td>\n",
       "      <td>FAKE</td>\n",
       "    </tr>\n",
       "    <tr>\n",
       "      <th>1</th>\n",
       "      <td>watch exact moment paul ryan committed political suicide trump rally video</td>\n",
       "      <td>FAKE</td>\n",
       "    </tr>\n",
       "    <tr>\n",
       "      <th>2</th>\n",
       "      <td>kerry go paris gesture sympathy</td>\n",
       "      <td>REAL</td>\n",
       "    </tr>\n",
       "    <tr>\n",
       "      <th>3</th>\n",
       "      <td>bernie supporters twitter erupt anger dnc tried warn</td>\n",
       "      <td>FAKE</td>\n",
       "    </tr>\n",
       "    <tr>\n",
       "      <th>4</th>\n",
       "      <td>battle new york primary matters</td>\n",
       "      <td>REAL</td>\n",
       "    </tr>\n",
       "  </tbody>\n",
       "</table>\n",
       "</div>"
      ],
      "text/plain": [
       "                                                                    new_title  \\\n",
       "0                                                         smell hillarys fear   \n",
       "1  watch exact moment paul ryan committed political suicide trump rally video   \n",
       "2                                             kerry go paris gesture sympathy   \n",
       "3                        bernie supporters twitter erupt anger dnc tried warn   \n",
       "4                                             battle new york primary matters   \n",
       "\n",
       "  label  \n",
       "0  FAKE  \n",
       "1  FAKE  \n",
       "2  REAL  \n",
       "3  FAKE  \n",
       "4  REAL  "
      ]
     },
     "execution_count": 24,
     "metadata": {},
     "output_type": "execute_result"
    }
   ],
   "source": [
    "training_data.head()"
   ]
  },
  {
   "cell_type": "code",
   "execution_count": 25,
   "metadata": {},
   "outputs": [
    {
     "data": {
      "text/plain": [
       "6335"
      ]
     },
     "execution_count": 25,
     "metadata": {},
     "output_type": "execute_result"
    }
   ],
   "source": [
    "len(df)"
   ]
  },
  {
   "cell_type": "code",
   "execution_count": 26,
   "metadata": {},
   "outputs": [
    {
     "name": "stderr",
     "output_type": "stream",
     "text": [
      "C:\\Users\\willi\\Anaconda3\\lib\\site-packages\\ipykernel_launcher.py:1: SettingWithCopyWarning: \n",
      "A value is trying to be set on a copy of a slice from a DataFrame.\n",
      "Try using .loc[row_indexer,col_indexer] = value instead\n",
      "\n",
      "See the caveats in the documentation: https://pandas.pydata.org/pandas-docs/stable/user_guide/indexing.html#returning-a-view-versus-a-copy\n",
      "  \"\"\"Entry point for launching an IPython kernel.\n"
     ]
    }
   ],
   "source": [
    "training_data['label'] = training_data['label'].replace({'FAKE': 1, 'REAL':0})"
   ]
  },
  {
   "cell_type": "code",
   "execution_count": 27,
   "metadata": {},
   "outputs": [],
   "source": [
    "train = training_data[0:5068]"
   ]
  },
  {
   "cell_type": "code",
   "execution_count": 28,
   "metadata": {},
   "outputs": [],
   "source": [
    "test = training_data[5068:6335]"
   ]
  },
  {
   "cell_type": "code",
   "execution_count": 29,
   "metadata": {},
   "outputs": [],
   "source": [
    "import sklearn\n",
    "from sklearn.ensemble import RandomForestClassifier\n",
    "from sklearn.feature_extraction.text import TfidfVectorizer\n",
    "vec = TfidfVectorizer()"
   ]
  },
  {
   "cell_type": "code",
   "execution_count": 30,
   "metadata": {},
   "outputs": [],
   "source": [
    "train_data = vec.fit_transform(train['new_title'])"
   ]
  },
  {
   "cell_type": "code",
   "execution_count": 31,
   "metadata": {},
   "outputs": [],
   "source": [
    "#vec.idf_"
   ]
  },
  {
   "cell_type": "code",
   "execution_count": 32,
   "metadata": {},
   "outputs": [
    {
     "data": {
      "text/plain": [
       "{'smell': 7713,\n",
       " 'hillarys': 3985,\n",
       " 'fear': 3239,\n",
       " 'watch': 9068,\n",
       " 'exact': 3031,\n",
       " 'moment': 5409,\n",
       " 'paul': 6080,\n",
       " 'ryan': 7231,\n",
       " 'committed': 1829,\n",
       " 'political': 6296,\n",
       " 'suicide': 8093,\n",
       " 'trump': 8598,\n",
       " 'rally': 6709,\n",
       " 'video': 8923,\n",
       " 'kerry': 4642,\n",
       " 'go': 3678,\n",
       " 'paris': 6034,\n",
       " 'gesture': 3629,\n",
       " 'sympathy': 8199,\n",
       " 'bernie': 1019,\n",
       " 'supporters': 8121,\n",
       " 'twitter': 8664,\n",
       " 'erupt': 2965,\n",
       " 'anger': 570,\n",
       " 'dnc': 2615,\n",
       " 'tried': 8570,\n",
       " 'warn': 9041,\n",
       " 'battle': 946,\n",
       " 'new': 5641,\n",
       " 'york': 9302,\n",
       " 'primary': 6459,\n",
       " 'matters': 5193,\n",
       " 'tehran': 8286,\n",
       " 'usa': 8823,\n",
       " 'girl': 3648,\n",
       " 'horrified': 4066,\n",
       " 'watches': 9070,\n",
       " 'boyfriend': 1220,\n",
       " 'left': 4844,\n",
       " 'facetime': 3151,\n",
       " 'britains': 1282,\n",
       " 'schindler': 7324,\n",
       " 'dies': 2484,\n",
       " '106': 18,\n",
       " 'fact': 3155,\n",
       " 'check': 1609,\n",
       " 'clinton': 1723,\n",
       " 'commanderinchief': 1815,\n",
       " 'forum': 3457,\n",
       " 'iran': 4432,\n",
       " 'reportedly': 6967,\n",
       " 'makes': 5081,\n",
       " 'push': 6627,\n",
       " 'uranium': 8817,\n",
       " 'concessions': 1872,\n",
       " 'nuclear': 5738,\n",
       " 'talks': 8234,\n",
       " 'three': 8384,\n",
       " 'clintons': 1727,\n",
       " 'iowa': 4427,\n",
       " 'glimpse': 3665,\n",
       " 'fire': 3330,\n",
       " 'eluded': 2845,\n",
       " 'hillary': 3979,\n",
       " 'campaign': 1410,\n",
       " 'donald': 2639,\n",
       " 'trumps': 8611,\n",
       " 'shockingly': 7554,\n",
       " 'weak': 9082,\n",
       " 'delegate': 2342,\n",
       " 'game': 3575,\n",
       " 'somehow': 7772,\n",
       " 'got': 3705,\n",
       " 'even': 3006,\n",
       " 'worse': 9244,\n",
       " 'strong': 8024,\n",
       " 'solar': 7759,\n",
       " 'storm': 7992,\n",
       " 'tech': 8277,\n",
       " 'risks': 7129,\n",
       " 'today': 8436,\n",
       " 's0': 7233,\n",
       " 'news': 5643,\n",
       " 'oct262016': 5796,\n",
       " '10': 4,\n",
       " 'ways': 9079,\n",
       " 'america': 530,\n",
       " 'preparing': 6411,\n",
       " 'world': 9235,\n",
       " 'war': 9031,\n",
       " 'takes': 8224,\n",
       " 'cruz': 2166,\n",
       " 'lightly': 4917,\n",
       " 'women': 9213,\n",
       " 'lead': 4814,\n",
       " 'differently': 2489,\n",
       " 'shocking': 7553,\n",
       " 'michele': 5300,\n",
       " 'obama': 5764,\n",
       " 'caught': 1503,\n",
       " 'glamorizing': 3660,\n",
       " 'date': 2247,\n",
       " 'rape': 6728,\n",
       " 'promoters': 6525,\n",
       " 'huge': 4100,\n",
       " 'trouble': 8587,\n",
       " 'noticed': 5721,\n",
       " 'sick': 7602,\n",
       " 'thing': 8360,\n",
       " 'hidden': 3956,\n",
       " 'picture': 6185,\n",
       " 'liberty': 4898,\n",
       " 'writers': 9261,\n",
       " 'whats': 9132,\n",
       " 'bill': 1055,\n",
       " 'doesnt': 2623,\n",
       " 'like': 4919,\n",
       " 'chart': 1600,\n",
       " 'explains': 3097,\n",
       " 'everything': 3019,\n",
       " 'need': 5599,\n",
       " 'know': 4695,\n",
       " 'partisanship': 6050,\n",
       " 'slippery': 7690,\n",
       " 'slope': 7694,\n",
       " 'proposed': 6543,\n",
       " 'ban': 900,\n",
       " 'muslims': 5527,\n",
       " 'episode': 2946,\n",
       " '160': 55,\n",
       " 'sunday': 8103,\n",
       " 'wire': 9195,\n",
       " 'hail': 3813,\n",
       " 'deplorables': 2396,\n",
       " 'special': 7827,\n",
       " 'guest': 3781,\n",
       " 'randy': 6720,\n",
       " 'bipartisan': 1069,\n",
       " 'appeal': 665,\n",
       " 'staten': 7932,\n",
       " 'island': 4461,\n",
       " 'senate': 7428,\n",
       " 'majority': 5077,\n",
       " 'leaders': 4816,\n",
       " 'main': 5071,\n",
       " 'goal': 3679,\n",
       " 'gop': 3700,\n",
       " 'dont': 2648,\n",
       " 'scary': 7319,\n",
       " 'inferno': 4282,\n",
       " 'overpopulation': 5956,\n",
       " 'myth': 5538,\n",
       " 'antitrump': 637,\n",
       " 'forces': 3432,\n",
       " 'seek': 7392,\n",
       " 'lastditch': 4772,\n",
       " 'revolt': 7076,\n",
       " 'sanders': 7265,\n",
       " 'trounces': 8591,\n",
       " 'va': 8850,\n",
       " 'make': 5079,\n",
       " 'difference': 2486,\n",
       " 'changing': 1579,\n",
       " 'slogan': 7693,\n",
       " 'prove': 6576,\n",
       " 'hes': 3950,\n",
       " 'racist': 6680,\n",
       " 'pure': 6620,\n",
       " 'chaos': 1585,\n",
       " 'management': 5100,\n",
       " 'offers': 5807,\n",
       " 'governing': 3711,\n",
       " 'style': 8055,\n",
       " 'spoiler': 7862,\n",
       " 'alert': 471,\n",
       " 'terrible': 8313,\n",
       " 'syrian': 8204,\n",
       " 'report': 6965,\n",
       " 'november': 5732,\n",
       " '2016': 105,\n",
       " 'military': 5324,\n",
       " 'deploys': 2400,\n",
       " 'advanced': 372,\n",
       " 't90': 8211,\n",
       " 'tanks': 8241,\n",
       " 'aleppo': 470,\n",
       " 'insiders': 4329,\n",
       " 'carly': 1461,\n",
       " 'crushed': 2163,\n",
       " 'jeffrey': 4512,\n",
       " 'sewell': 7479,\n",
       " 'et': 2981,\n",
       " 'al': 454,\n",
       " 'metabiology': 5281,\n",
       " 'face': 3142,\n",
       " 'artificial': 737,\n",
       " 'intelligence': 4359,\n",
       " 'necessary': 5597,\n",
       " 'relax': 6902,\n",
       " 'stretch': 8018,\n",
       " 'brexit': 1255,\n",
       " 'encourages': 2887,\n",
       " 'uk': 8684,\n",
       " 'trade': 8497,\n",
       " 'noneu': 5695,\n",
       " 'states': 7933,\n",
       " 'including': 4235,\n",
       " 'russia': 7220,\n",
       " 'interview': 4388,\n",
       " 'socrates': 7752,\n",
       " 'another': 591,\n",
       " 'day': 2256,\n",
       " 'life': 4908,\n",
       " 'empire': 2874,\n",
       " 'near': 5590,\n",
       " 'endgame': 2894,\n",
       " 'fools': 3421,\n",
       " 'ever': 3012,\n",
       " 'hope': 4055,\n",
       " 'change': 1575,\n",
       " 'mike': 5317,\n",
       " 'pence': 6107,\n",
       " 'drapes': 2683,\n",
       " 'shawl': 7522,\n",
       " 'immodest': 4190,\n",
       " 'lady': 4733,\n",
       " 'justice': 4603,\n",
       " 'statue': 7942,\n",
       " 'onion': 5851,\n",
       " 'americas': 536,\n",
       " 'finest': 3323,\n",
       " 'source': 7800,\n",
       " 'first': 3339,\n",
       " 'hindu': 3988,\n",
       " 'woman': 9212,\n",
       " 'elected': 2818,\n",
       " 'congress': 1906,\n",
       " 'groped': 3756,\n",
       " '2005': 92,\n",
       " 'weiner': 9115,\n",
       " 'sext': 7484,\n",
       " 'exassistant': 3041,\n",
       " 'fbi': 3235,\n",
       " 'director': 2515,\n",
       " 'crime': 2120,\n",
       " 'family': 3189,\n",
       " 'wants': 9030,\n",
       " 'aggressively': 419,\n",
       " 'interventionist': 4387,\n",
       " 'foreign': 3437,\n",
       " 'policy': 6293,\n",
       " 'parties': 6047,\n",
       " 'want': 9028,\n",
       " 'craft': 2089,\n",
       " 'populist': 6319,\n",
       " 'messages': 5279,\n",
       " 'take': 8218,\n",
       " 'wall': 9016,\n",
       " 'street': 8013,\n",
       " 'bids': 1045,\n",
       " 'goodbye': 3698,\n",
       " 'june': 4597,\n",
       " 'hike': 3973,\n",
       " 'real': 6773,\n",
       " 'disclosure': 2535,\n",
       " 'secret': 7382,\n",
       " 'alien': 473,\n",
       " 'base': 930,\n",
       " 'found': 3463,\n",
       " 'moons': 5435,\n",
       " 'tycho': 8672,\n",
       " 'crater': 2097,\n",
       " 'homeless': 4030,\n",
       " 'protects': 6564,\n",
       " 'walk': 9010,\n",
       " 'fame': 3186,\n",
       " 'star': 7918,\n",
       " 'violent': 8945,\n",
       " 'leftists': 4846,\n",
       " '320': 154,\n",
       " 'tweet': 8652,\n",
       " 'saturday': 7283,\n",
       " 'continues': 1964,\n",
       " 'mock': 5389,\n",
       " 'friday': 3514,\n",
       " 'meltdown': 5248,\n",
       " '220': 122,\n",
       " 'significant': 7617,\n",
       " 'pipeline': 6204,\n",
       " 'spills': 7852,\n",
       " 'already': 509,\n",
       " 'year': 9285,\n",
       " 'exposes': 3113,\n",
       " 'troubling': 8590,\n",
       " 'safety': 7246,\n",
       " 'record': 6818,\n",
       " 'right': 7106,\n",
       " 'call': 1397,\n",
       " 'tough': 8478,\n",
       " 'afghanistan': 400,\n",
       " 'race': 6674,\n",
       " 'rankings': 6724,\n",
       " 'dems': 2372,\n",
       " 'attack': 785,\n",
       " 'lays': 4811,\n",
       " 'swingstate': 8187,\n",
       " 'groundwork': 3760,\n",
       " 'didnt': 2480,\n",
       " 'boy': 1217,\n",
       " 'raped': 6729,\n",
       " 'court': 2066,\n",
       " 'throws': 8389,\n",
       " 'muslim': 5526,\n",
       " 'migrant': 5314,\n",
       " 'child': 1635,\n",
       " 'sex': 7480,\n",
       " 'charge': 1589,\n",
       " 'germans': 3625,\n",
       " 'shock': 7550,\n",
       " 'pieczenik': 6188,\n",
       " 'rogue': 7154,\n",
       " 'agents': 415,\n",
       " 'wikileaks': 9167,\n",
       " 'spearheading': 7826,\n",
       " 'movement': 5479,\n",
       " 'stop': 7984,\n",
       " 'stealing': 7951,\n",
       " 'white': 9144,\n",
       " 'house': 4086,\n",
       " 'truthfeed': 8621,\n",
       " 'american': 532,\n",
       " 'politics': 6301,\n",
       " 'reached': 6754,\n",
       " 'peak': 6102,\n",
       " 'polarization': 6284,\n",
       " 'antimuhammad': 623,\n",
       " 'cartoon': 1479,\n",
       " 'contest': 1954,\n",
       " 'free': 3495,\n",
       " 'speech': 7833,\n",
       " 'deliberately': 2348,\n",
       " 'provocative': 6588,\n",
       " 'effects': 2796,\n",
       " 'substance': 8067,\n",
       " 'abuse': 281,\n",
       " 'individual': 4270,\n",
       " 'community': 1836,\n",
       " 'tree': 8551,\n",
       " 'shaped': 7505,\n",
       " 'vertical': 8895,\n",
       " 'farms': 3208,\n",
       " 'grow': 3764,\n",
       " '24': 127,\n",
       " 'acres': 318,\n",
       " 'urban': 8818,\n",
       " 'crops': 2144,\n",
       " 'comment': 1819,\n",
       " 'features': 3246,\n",
       " 'added': 338,\n",
       " 'worlds': 9239,\n",
       " 'newspapers': 5649,\n",
       " 'react': 6757,\n",
       " 'hebdo': 3919,\n",
       " 'ying': 9300,\n",
       " 'yang': 9281,\n",
       " 'gold': 3687,\n",
       " 'silver': 7626,\n",
       " 'setup': 7474,\n",
       " 'closed': 1737,\n",
       " 'primaries': 6457,\n",
       " 'warped': 9046,\n",
       " 'democracy': 2364,\n",
       " 'police': 6288,\n",
       " 'turn': 8642,\n",
       " 'badges': 872,\n",
       " 'rather': 6742,\n",
       " 'incite': 4230,\n",
       " 'violence': 8944,\n",
       " 'standing': 7915,\n",
       " 'rock': 7145,\n",
       " 'protestors': 6571,\n",
       " 'caused': 1507,\n",
       " 'tremendous': 8553,\n",
       " 'death': 2274,\n",
       " 'detroit': 2455,\n",
       " 'womens': 9214,\n",
       " 'halloween': 3819,\n",
       " 'decorations': 2308,\n",
       " 'depict': 2394,\n",
       " 'reallife': 6776,\n",
       " 'horrors': 4069,\n",
       " 'shootings': 7562,\n",
       " 'biden': 1043,\n",
       " 'surprise': 8138,\n",
       " 'declining': 2306,\n",
       " 'favorability': 3231,\n",
       " 'numbers': 5748,\n",
       " 'context': 1958,\n",
       " 'quid': 6662,\n",
       " 'pro': 6477,\n",
       " 'quo': 6671,\n",
       " 'email': 2847,\n",
       " 'reveals': 7059,\n",
       " 'eyeing': 3135,\n",
       " 'ryans': 7232,\n",
       " 'relative': 6901,\n",
       " 'supreme': 8128,\n",
       " 'lenorelee': 4859,\n",
       " 'criminal': 2123,\n",
       " 'investigation': 4412,\n",
       " 'keeps': 4628,\n",
       " 'moving': 5484,\n",
       " 'forward': 3459,\n",
       " 'rubios': 7191,\n",
       " 'parting': 6048,\n",
       " 'shot': 7576,\n",
       " 'loretta': 4994,\n",
       " 'lynch': 5040,\n",
       " 'becomes': 967,\n",
       " 'africanamerican': 405,\n",
       " 'ag': 409,\n",
       " 'funny': 3556,\n",
       " 'republicans': 6980,\n",
       " 'upset': 8812,\n",
       " 'facebook': 3143,\n",
       " 'column': 1798,\n",
       " 'checking': 1611,\n",
       " 'orlando': 5918,\n",
       " 'shooters': 7560,\n",
       " 'wife': 9161,\n",
       " 'knew': 4692,\n",
       " 'plan': 6226,\n",
       " 'google': 3699,\n",
       " 'youtube': 9314,\n",
       " 'purse': 6625,\n",
       " 'handicapping': 3833,\n",
       " 'hispanic': 3997,\n",
       " 'vote': 8980,\n",
       " 'gopers': 3701,\n",
       " 'truth': 8619,\n",
       " 'radio': 6688,\n",
       " 'laconia': 4730,\n",
       " 'incident': 4228,\n",
       " 'establishment': 2977,\n",
       " 'nightmare': 5666,\n",
       " 'ted': 8281,\n",
       " 'vs': 8994,\n",
       " 'lost': 5003,\n",
       " 'poor': 6311,\n",
       " 'voters': 8982,\n",
       " 'south': 7802,\n",
       " 'carolina': 1467,\n",
       " 'big': 1046,\n",
       " 'margin': 5134,\n",
       " 'problem': 6484,\n",
       " 'revolution': 7077,\n",
       " 'get': 3630,\n",
       " 'botox': 1206,\n",
       " 'jeb': 4506,\n",
       " 'bush': 1363,\n",
       " 'picks': 6183,\n",
       " 'endorsement': 2900,\n",
       " 'lindsey': 4931,\n",
       " 'graham': 3726,\n",
       " 'republican': 6979,\n",
       " 'enters': 2930,\n",
       " 'volatile': 8974,\n",
       " 'phase': 6159,\n",
       " 'hands': 3837,\n",
       " 'shoot': 7558,\n",
       " 'built': 1332,\n",
       " 'lie': 4905,\n",
       " 'lavrov': 4796,\n",
       " 'discuss': 2547,\n",
       " 'settlement': 7472,\n",
       " 'breaking': 1241,\n",
       " 'doj': 2627,\n",
       " 'says': 7300,\n",
       " 'help': 3934,\n",
       " 'review': 7066,\n",
       " '650k': 215,\n",
       " 'emails': 2849,\n",
       " 'ouster': 5929,\n",
       " 'two': 8665,\n",
       " 'convention': 1982,\n",
       " 'cochairs': 1760,\n",
       " 'rejected': 6896,\n",
       " 'five': 3345,\n",
       " 'reasons': 6782,\n",
       " 'democratic': 2366,\n",
       " 'felt': 3266,\n",
       " 'competitive': 1846,\n",
       " 'around': 719,\n",
       " 'turns': 8646,\n",
       " 'city': 1677,\n",
       " 'halls': 3820,\n",
       " 'celebrity': 1524,\n",
       " 'deathmatch': 2277,\n",
       " 'darkmoon': 2241,\n",
       " 'sages': 7248,\n",
       " 'final': 3310,\n",
       " 'predictions': 6394,\n",
       " 'us': 8822,\n",
       " 'election': 2821,\n",
       " 'john': 4551,\n",
       " 'isis': 4454,\n",
       " 'responsible': 7020,\n",
       " 'genocide': 3618,\n",
       " 'mitt': 5381,\n",
       " 'romneys': 7168,\n",
       " 'reinvention': 6894,\n",
       " 'antipoverty': 626,\n",
       " 'warrior': 9053,\n",
       " 'king': 4674,\n",
       " 'fill': 3302,\n",
       " 'vacancy': 8851,\n",
       " 'toast': 8433,\n",
       " 'wont': 9217,\n",
       " 'president': 6425,\n",
       " 'days': 2257,\n",
       " 'numbered': 5747,\n",
       " 'obamas': 5768,\n",
       " 'selma': 7424,\n",
       " 'answer': 593,\n",
       " 'question': 6656,\n",
       " 'love': 5015,\n",
       " 'exclusive': 3053,\n",
       " 'campaigns': 1412,\n",
       " 'plot': 6260,\n",
       " 'rnc': 7133,\n",
       " 'revelation': 7060,\n",
       " 'unleashed': 8760,\n",
       " 'unlocking': 8767,\n",
       " 'mysteries': 5534,\n",
       " 'bibles': 1040,\n",
       " 'mysterious': 5535,\n",
       " 'book': 1184,\n",
       " 'silent': 7624,\n",
       " 'countercoup': 2049,\n",
       " '17': 60,\n",
       " 'intel': 4357,\n",
       " 'agencies': 411,\n",
       " 'crooked': 2142,\n",
       " 'town': 8488,\n",
       " 'hall': 3818,\n",
       " 'french': 3504,\n",
       " 'hunt': 4116,\n",
       " 'brothers': 1300,\n",
       " 'accused': 304,\n",
       " 'charlie': 1596,\n",
       " 'terror': 8317,\n",
       " 'mandela': 5107,\n",
       " 'effect': 2792,\n",
       " 'made': 5053,\n",
       " 'one': 5845,\n",
       " 'overlooked': 5954,\n",
       " '33': 157,\n",
       " 'old': 5827,\n",
       " 'man': 5096,\n",
       " 'ascended': 741,\n",
       " 'master': 5173,\n",
       " 'proof': 6532,\n",
       " 'cnn': 1754,\n",
       " 'voter': 8981,\n",
       " 'voting': 8984,\n",
       " 'repeatedly': 6952,\n",
       " 'give': 3654,\n",
       " 'social': 7746,\n",
       " 'security': 7389,\n",
       " 'recipients': 6809,\n",
       " 'ceostyle': 1546,\n",
       " 'raise': 6702,\n",
       " 'fireworks': 3336,\n",
       " 'rubio': 7190,\n",
       " 'debate': 2280,\n",
       " 'sounding': 7797,\n",
       " 'critics': 2139,\n",
       " 'admits': 359,\n",
       " 'complete': 1852,\n",
       " 'strategy': 8008,\n",
       " 'iraq': 4437,\n",
       " 'became': 964,\n",
       " 'newly': 5642,\n",
       " 'approved': 684,\n",
       " 'gm': 3676,\n",
       " 'potatoes': 6358,\n",
       " 'potential': 6360,\n",
       " 'silence': 7622,\n",
       " 'human': 4103,\n",
       " 'genes': 3612,\n",
       " 'accord': 296,\n",
       " 'sues': 8084,\n",
       " 'suspended': 8156,\n",
       " 'access': 291,\n",
       " 'critical': 2134,\n",
       " 'list': 4941,\n",
       " 'latest': 4778,\n",
       " 'patriot': 6076,\n",
       " 'act': 320,\n",
       " 'reform': 6855,\n",
       " 'enough': 2918,\n",
       " 'rein': 6891,\n",
       " 'nsa': 5736,\n",
       " 'expands': 3080,\n",
       " 'probe': 6480,\n",
       " 'launches': 4791,\n",
       " 'independent': 4253,\n",
       " 'classification': 1698,\n",
       " 'gary': 3589,\n",
       " 'johnson': 4553,\n",
       " 'arcturian': 697,\n",
       " 'group': 3761,\n",
       " 'marilyn': 5139,\n",
       " 'raffaele': 6691,\n",
       " 'october': 5797,\n",
       " '23': 125,\n",
       " 'weapons': 9091,\n",
       " 'kevin': 4644,\n",
       " 'macdonald': 5047,\n",
       " 'celebrates': 1520,\n",
       " 'amazing': 520,\n",
       " 'victory': 8922,\n",
       " 'aqutru': 687,\n",
       " 'water': 9072,\n",
       " 'filter': 3309,\n",
       " 'version': 8893,\n",
       " '20': 85,\n",
       " 'stock': 7975,\n",
       " 'ive': 4484,\n",
       " 'snagged': 7725,\n",
       " '500': 189,\n",
       " 'units': 8750,\n",
       " 'natural': 5576,\n",
       " 'readers': 6764,\n",
       " 'deep': 2311,\n",
       " 'discount': 2539,\n",
       " 'happens': 3848,\n",
       " 'drops': 2707,\n",
       " 'idd': 4143,\n",
       " 'bombers': 1170,\n",
       " 'belgium': 989,\n",
       " 'glorifying': 3673,\n",
       " 'may': 5198,\n",
       " 'run': 7209,\n",
       " 'patience': 6073,\n",
       " 'respond': 7015,\n",
       " 'usas': 8827,\n",
       " 'rudeness': 7193,\n",
       " 'david': 2252,\n",
       " 'duke': 2724,\n",
       " 'show': 7581,\n",
       " 'treason': 8540,\n",
       " 'win': 9180,\n",
       " 'blame': 1094,\n",
       " 'immigrants': 4187,\n",
       " 'san': 7261,\n",
       " 'francisco': 3484,\n",
       " 'shooting': 7561,\n",
       " 'netanyahu': 5628,\n",
       " 'allow': 496,\n",
       " 'israel': 4466,\n",
       " 'submerged': 8061,\n",
       " 'refugees': 6864,\n",
       " 'apocalypse': 655,\n",
       " 'wins': 9192,\n",
       " 'geoengineering': 3620,\n",
       " 'unlikely': 8765,\n",
       " 'work': 9226,\n",
       " 'conservation': 1921,\n",
       " 'questions': 6660,\n",
       " 'ahead': 430,\n",
       " 'tonights': 8454,\n",
       " 'failing': 3167,\n",
       " 'must': 5529,\n",
       " 'heed': 3927,\n",
       " 'lessons': 4867,\n",
       " '911': 247,\n",
       " 'needs': 5601,\n",
       " 'ground': 3758,\n",
       " 'pulp': 6606,\n",
       " 'leaked': 4824,\n",
       " 'podesta': 6271,\n",
       " 'february': 3248,\n",
       " '50': 188,\n",
       " 'years': 9287,\n",
       " 'lewiss': 4884,\n",
       " 'recalls': 6796,\n",
       " 'march': 5129,\n",
       " 'long': 4977,\n",
       " 'overdue': 5952,\n",
       " 'presidential': 6427,\n",
       " 'assassination': 759,\n",
       " 'anyway': 650,\n",
       " 'flipflop': 3384,\n",
       " 'vox': 8991,\n",
       " 'warns': 9045,\n",
       " 'serious': 7453,\n",
       " 'risk': 7128,\n",
       " 'good': 3697,\n",
       " 'kind': 4673,\n",
       " 'either': 2811,\n",
       " 'thirdparty': 8368,\n",
       " 'candidates': 1427,\n",
       " 'fight': 3290,\n",
       " '15': 50,\n",
       " 'polls': 6305,\n",
       " 'spot': 7871,\n",
       " 'debates': 2282,\n",
       " 'kasich': 4621,\n",
       " 'eye': 3134,\n",
       " 'shadow': 7490,\n",
       " 'comey': 1808,\n",
       " 'explain': 3095,\n",
       " 'advised': 381,\n",
       " 'publicly': 6598,\n",
       " 'accuse': 303,\n",
       " 'hacking': 3808,\n",
       " 'democrats': 2367,\n",
       " 'putin': 6633,\n",
       " 'congratulates': 1905,\n",
       " 'ready': 6769,\n",
       " 'restore': 7024,\n",
       " 'relations': 6898,\n",
       " 'monsieur': 5428,\n",
       " 'malbrough': 5086,\n",
       " 'est': 2975,\n",
       " 'mort': 5451,\n",
       " 'eastern': 2763,\n",
       " 'outlook': 5940,\n",
       " 'conspiracy': 1933,\n",
       " 'theories': 8348,\n",
       " 'swirl': 8189,\n",
       " 'antonin': 641,\n",
       " 'scalia': 7305,\n",
       " 'thread': 8378,\n",
       " 'ehhh': 2809,\n",
       " 'mccain': 5203,\n",
       " 'understand': 8717,\n",
       " 'syria': 8203,\n",
       " 'manager': 5101,\n",
       " 'undercover': 8707,\n",
       " 'deliver': 2352,\n",
       " 'different': 2488,\n",
       " 'cosby': 2029,\n",
       " 'podestaemails20': 6273,\n",
       " 'megyn': 5244,\n",
       " 'trashes': 8534,\n",
       " 'newt': 5650,\n",
       " 'murdoch': 5518,\n",
       " 'announces': 586,\n",
       " 'replacements': 6960,\n",
       " 'available': 824,\n",
       " 'suspect': 8152,\n",
       " 'captured': 1445,\n",
       " 'ambushstyle': 526,\n",
       " 'killings': 4669,\n",
       " 'cops': 2008,\n",
       " 'things': 8361,\n",
       " 'every': 3015,\n",
       " 'save': 7292,\n",
       " 'economy': 2781,\n",
       " 'next': 5652,\n",
       " 'impact': 4194,\n",
       " 'climate': 1718,\n",
       " 'without': 9206,\n",
       " 'look': 4983,\n",
       " 'number': 5746,\n",
       " 'kids': 4660,\n",
       " 'born': 1199,\n",
       " 'illegals': 4170,\n",
       " '2014': 103,\n",
       " 'mother': 5461,\n",
       " 'daughter': 2248,\n",
       " 'remind': 6923,\n",
       " 'msnbc': 5494,\n",
       " 'reporter': 6968,\n",
       " 'black': 1085,\n",
       " 'department': 2387,\n",
       " 'staffers': 7899,\n",
       " 'monitor': 5422,\n",
       " 'elizabeth': 2842,\n",
       " 'warren': 9050,\n",
       " 'blasted': 1103,\n",
       " 'going': 3686,\n",
       " 'instead': 4341,\n",
       " 'crooks': 2143,\n",
       " 'poll': 6303,\n",
       " '71': 225,\n",
       " 'percent': 6119,\n",
       " 'think': 8362,\n",
       " 'keep': 4625,\n",
       " 'running': 7210,\n",
       " 'indicted': 4264,\n",
       " 'trumped': 8602,\n",
       " 'deal': 2268,\n",
       " 'unraveling': 8776,\n",
       " 'institution': 4345,\n",
       " 'saturns': 7285,\n",
       " 'baffling': 876,\n",
       " 'hexagon': 3953,\n",
       " 'raging': 6695,\n",
       " 'four': 3468,\n",
       " 'times': 8419,\n",
       " 'size': 7658,\n",
       " 'earth': 2755,\n",
       " 'changed': 1576,\n",
       " 'colors': 1795,\n",
       " 'cyrus': 2209,\n",
       " 'mistry': 5378,\n",
       " 'renames': 6934,\n",
       " 'rohit': 7155,\n",
       " 'sharmamistry': 7515,\n",
       " 'gets': 3631,\n",
       " 'job': 4543,\n",
       " 'back': 853,\n",
       " 'intervenes': 4385,\n",
       " '70': 221,\n",
       " 'months': 5431,\n",
       " 'full': 3539,\n",
       " 'office': 5809,\n",
       " 'shutdown': 7594,\n",
       " 'clash': 1694,\n",
       " 'return': 7049,\n",
       " 'force': 3430,\n",
       " 'december': 2296,\n",
       " 'classless': 1700,\n",
       " 'refuses': 6868,\n",
       " 'photoop': 6169,\n",
       " 'welcome': 9118,\n",
       " 'maryland': 5159,\n",
       " 'supporter': 8120,\n",
       " 'switched': 8192,\n",
       " 'misterdawg': 5376,\n",
       " 'stuff': 8041,\n",
       " 'talking': 8233,\n",
       " 'blizzard': 1114,\n",
       " 'charges': 1592,\n",
       " 'countercharges': 2048,\n",
       " 'melts': 5251,\n",
       " 'away': 837,\n",
       " 'opinions': 5875,\n",
       " 'frozen': 3528,\n",
       " 'media': 5227,\n",
       " 'censoring': 1531,\n",
       " 'fbis': 3236,\n",
       " 'reopened': 6943,\n",
       " 'inches': 4227,\n",
       " 'closer': 1739,\n",
       " 'vetoproof': 8903,\n",
       " 'support': 8119,\n",
       " 'plans': 6232,\n",
       " 'momentum': 5411,\n",
       " 'martin': 5158,\n",
       " 'omalley': 5836,\n",
       " 'praises': 6380,\n",
       " 'holding': 4015,\n",
       " 'shiite': 7539,\n",
       " 'militias': 5328,\n",
       " 'join': 4556,\n",
       " 'iraqs': 4440,\n",
       " 'mosul': 5460,\n",
       " 'super': 8107,\n",
       " 'pac': 5976,\n",
       " 'early': 2749,\n",
       " 'start': 7923,\n",
       " 'pushing': 6630,\n",
       " 'christianity': 1656,\n",
       " 'promote': 6523,\n",
       " 'religious': 6911,\n",
       " 'freedom': 3498,\n",
       " 'taxpayers': 8265,\n",
       " 'pay': 6087,\n",
       " 'att': 783,\n",
       " 'millions': 5337,\n",
       " 'dollars': 2633,\n",
       " 'privilege': 6475,\n",
       " 'spying': 7886,\n",
       " 'journalist': 4576,\n",
       " 'militarized': 5323,\n",
       " 'conducting': 1882,\n",
       " 'buffett': 1323,\n",
       " 'ran': 6716,\n",
       " 'fed': 3250,\n",
       " 'would': 9251,\n",
       " 'rates': 6741,\n",
       " 'significantly': 7618,\n",
       " 'tensions': 8305,\n",
       " 'agrees': 427,\n",
       " 'restrictions': 7028,\n",
       " 'framework': 3479,\n",
       " 'powers': 6372,\n",
       " 'constipation': 1936,\n",
       " 'body': 1155,\n",
       " 'thehealthology': 8344,\n",
       " 'fifteen': 3288,\n",
       " 'quotes': 6672,\n",
       " 'proving': 6584,\n",
       " 'false': 3182,\n",
       " 'flag': 3353,\n",
       " 'terrorism': 8318,\n",
       " 'existence': 3072,\n",
       " 'government': 3712,\n",
       " 'sanderss': 7266,\n",
       " 'vast': 8876,\n",
       " 'universe': 8754,\n",
       " 'donors': 2647,\n",
       " 'mapped': 5126,\n",
       " 'former': 3451,\n",
       " 'ambassador': 522,\n",
       " 'andrew': 563,\n",
       " 'young': 9309,\n",
       " 'calls': 1400,\n",
       " 'end': 2890,\n",
       " 'fluoridation': 3398,\n",
       " 'civil': 1679,\n",
       " 'rights': 7108,\n",
       " 'issue': 4471,\n",
       " 'ad': 334,\n",
       " 'portraying': 6327,\n",
       " 'mothers': 5462,\n",
       " 'worst': 9249,\n",
       " 'nothing': 5719,\n",
       " 'short': 7570,\n",
       " 'chilling': 1640,\n",
       " 'gun': 3788,\n",
       " 'laws': 4804,\n",
       " 'britain': 1281,\n",
       " 'happened': 3846,\n",
       " 'forget': 3444,\n",
       " 'runs': 7211,\n",
       " 'alnusra': 503,\n",
       " 'attempt': 790,\n",
       " 'cut': 2202,\n",
       " 'govt': 3717,\n",
       " 'supply': 8118,\n",
       " 'line': 4932,\n",
       " 'christians': 1657,\n",
       " 'celebrate': 1518,\n",
       " 'charleston': 1595,\n",
       " 'worship': 9247,\n",
       " 'emanuel': 2850,\n",
       " 'ame': 527,\n",
       " 'making': 5083,\n",
       " 'annotated': 582,\n",
       " 'busted': 1369,\n",
       " 'foundation': 3464,\n",
       " 'directly': 2514,\n",
       " 'tied': 8405,\n",
       " 'steal': 7950,\n",
       " 'connecticut': 1911,\n",
       " 'state': 7929,\n",
       " 'boycott': 1218,\n",
       " 'indiana': 4258,\n",
       " 'lgbt': 4885,\n",
       " 'discrimination': 2546,\n",
       " 'law': 4798,\n",
       " 'scott': 7349,\n",
       " 'walker': 9012,\n",
       " 'confronts': 1901,\n",
       " 'doubts': 2662,\n",
       " 'grasp': 3734,\n",
       " 'carries': 1471,\n",
       " 'ballistic': 891,\n",
       " 'missile': 5367,\n",
       " 'test': 8328,\n",
       " 'assange': 755,\n",
       " 'allowed': 497,\n",
       " 'funded': 3549,\n",
       " 'interests': 4373,\n",
       " 'joe': 4548,\n",
       " 'cant': 1433,\n",
       " 'respect': 7012,\n",
       " 'come': 1804,\n",
       " 'winning': 9191,\n",
       " 'michael': 5299,\n",
       " 'moore': 5436,\n",
       " 'melted': 5249,\n",
       " 'ice': 4135,\n",
       " 'caps': 1442,\n",
       " 'bombs': 1173,\n",
       " 'history': 4001,\n",
       " 'someone': 7773,\n",
       " 'isnt': 4464,\n",
       " 'telling': 8291,\n",
       " 'freddie': 3493,\n",
       " 'grays': 3737,\n",
       " 'prison': 6470,\n",
       " 'employee': 2875,\n",
       " 'pleaded': 6250,\n",
       " 'guilty': 3785,\n",
       " 'aiding': 436,\n",
       " 'escape': 2969,\n",
       " 'murderers': 5516,\n",
       " 'culchie': 2180,\n",
       " 'tries': 8571,\n",
       " 'rules': 7201,\n",
       " '25': 129,\n",
       " 'time': 8416,\n",
       " 'legal': 4849,\n",
       " 'pot': 6356,\n",
       " ...}"
      ]
     },
     "execution_count": 32,
     "metadata": {},
     "output_type": "execute_result"
    }
   ],
   "source": [
    "vec.vocabulary_"
   ]
  },
  {
   "cell_type": "code",
   "execution_count": 33,
   "metadata": {},
   "outputs": [],
   "source": [
    "test_data = vec.transform(test['new_title'])"
   ]
  },
  {
   "cell_type": "code",
   "execution_count": 34,
   "metadata": {},
   "outputs": [],
   "source": [
    "X_train = train_data\n",
    "X_test = test_data\n",
    "y_train = train.label\n",
    "y_test = test.label"
   ]
  },
  {
   "cell_type": "code",
   "execution_count": 35,
   "metadata": {},
   "outputs": [],
   "source": [
    "rt = RandomForestClassifier(n_estimators = 2000, criterion = 'gini', max_features='log2', random_state=1)"
   ]
  },
  {
   "cell_type": "code",
   "execution_count": 36,
   "metadata": {},
   "outputs": [
    {
     "data": {
      "text/plain": [
       "RandomForestClassifier(max_features='log2', n_estimators=2000, random_state=1)"
      ]
     },
     "execution_count": 36,
     "metadata": {},
     "output_type": "execute_result"
    }
   ],
   "source": [
    "rt.fit(X_train, y_train)"
   ]
  },
  {
   "cell_type": "code",
   "execution_count": 37,
   "metadata": {},
   "outputs": [],
   "source": [
    "preds = rt.predict(X_test)"
   ]
  },
  {
   "cell_type": "code",
   "execution_count": 38,
   "metadata": {},
   "outputs": [],
   "source": [
    "from sklearn.metrics import accuracy_score\n",
    "from sklearn.metrics import classification_report, confusion_matrix\n",
    "from sklearn.metrics import roc_curve"
   ]
  },
  {
   "cell_type": "code",
   "execution_count": 39,
   "metadata": {},
   "outputs": [
    {
     "data": {
      "text/plain": [
       "0.8121546961325967"
      ]
     },
     "execution_count": 39,
     "metadata": {},
     "output_type": "execute_result"
    }
   ],
   "source": [
    "accuracy_score(y_test, preds)"
   ]
  },
  {
   "cell_type": "code",
   "execution_count": 40,
   "metadata": {},
   "outputs": [
    {
     "name": "stdout",
     "output_type": "stream",
     "text": [
      "              precision    recall  f1-score   support\n",
      "\n",
      "           0       0.82      0.79      0.80       623\n",
      "           1       0.80      0.84      0.82       644\n",
      "\n",
      "    accuracy                           0.81      1267\n",
      "   macro avg       0.81      0.81      0.81      1267\n",
      "weighted avg       0.81      0.81      0.81      1267\n",
      "\n"
     ]
    }
   ],
   "source": [
    "print(classification_report(y_test, preds))"
   ]
  },
  {
   "cell_type": "code",
   "execution_count": 41,
   "metadata": {},
   "outputs": [
    {
     "data": {
      "text/plain": [
       "Text(33.0, 0.5, 'Actual')"
      ]
     },
     "execution_count": 41,
     "metadata": {},
     "output_type": "execute_result"
    },
    {
     "data": {
      "image/png": "[encoded data removed]",
      "text/plain": [
       "<Figure size 432x288 with 1 Axes>"
      ]
     },
     "metadata": {
      "needs_background": "light"
     },
     "output_type": "display_data"
    }
   ],
   "source": [
    "c = confusion_matrix(y_test, preds)\n",
    "ax = sns.heatmap(c, annot=True, xticklabels=['Fake','Real'],yticklabels=['Fake','Real'],cbar=False)\n",
    "ax.set_xlabel('Prediction')\n",
    "ax.set_ylabel('Actual')"
   ]
  },
  {
   "cell_type": "code",
   "execution_count": 42,
   "metadata": {},
   "outputs": [
    {
     "data": {
      "text/plain": [
       "array([[490, 133],\n",
       "       [105, 539]], dtype=int64)"
      ]
     },
     "execution_count": 42,
     "metadata": {},
     "output_type": "execute_result"
    }
   ],
   "source": [
    "confusion_matrix(y_test, preds)"
   ]
  },
  {
   "cell_type": "code",
   "execution_count": 43,
   "metadata": {},
   "outputs": [],
   "source": [
    "FPR, TPR, _ = roc_curve(y_test, preds)"
   ]
  },
  {
   "cell_type": "code",
   "execution_count": 44,
   "metadata": {},
   "outputs": [
    {
     "data": {
      "text/plain": [
       "Text(0, 0.5, 'TPR')"
      ]
     },
     "execution_count": 44,
     "metadata": {},
     "output_type": "execute_result"
    },
    {
     "data": {
      "image/png": "[encoded data removed]",
      "text/plain": [
       "<Figure size 432x288 with 1 Axes>"
      ]
     },
     "metadata": {
      "needs_background": "light"
     },
     "output_type": "display_data"
    }
   ],
   "source": [
    "plt.plot(FPR, TPR)\n",
    "plt.xlabel('FPR')\n",
    "plt.ylabel('TPR')"
   ]
  },
  {
   "cell_type": "code",
   "execution_count": 45,
   "metadata": {},
   "outputs": [
    {
     "data": {
      "text/plain": [
       "array([1, 1, 1, 0, 1, 0, 0, 1, 1, 0], dtype=int64)"
      ]
     },
     "execution_count": 45,
     "metadata": {},
     "output_type": "execute_result"
    }
   ],
   "source": [
    "preds[:10]"
   ]
  },
  {
   "cell_type": "code",
   "execution_count": 46,
   "metadata": {},
   "outputs": [
    {
     "data": {
      "text/html": [
       "<div>\n",
       "<style scoped>\n",
       "    .dataframe tbody tr th:only-of-type {\n",
       "        vertical-align: middle;\n",
       "    }\n",
       "\n",
       "    .dataframe tbody tr th {\n",
       "        vertical-align: top;\n",
       "    }\n",
       "\n",
       "    .dataframe thead th {\n",
       "        text-align: right;\n",
       "    }\n",
       "</style>\n",
       "<table border=\"1\" class=\"dataframe\">\n",
       "  <thead>\n",
       "    <tr style=\"text-align: right;\">\n",
       "      <th></th>\n",
       "      <th>title</th>\n",
       "      <th>new_title</th>\n",
       "      <th>label</th>\n",
       "    </tr>\n",
       "  </thead>\n",
       "  <tbody>\n",
       "    <tr>\n",
       "      <th>0</th>\n",
       "      <td>You Can Smell Hillary’s Fear</td>\n",
       "      <td>smell hillarys fear</td>\n",
       "      <td>FAKE</td>\n",
       "    </tr>\n",
       "    <tr>\n",
       "      <th>1</th>\n",
       "      <td>Watch The Exact Moment Paul Ryan Committed Political Suicide At A Trump Rally (VIDEO)</td>\n",
       "      <td>watch exact moment paul ryan committed political suicide trump rally video</td>\n",
       "      <td>FAKE</td>\n",
       "    </tr>\n",
       "    <tr>\n",
       "      <th>2</th>\n",
       "      <td>Kerry to go to Paris in gesture of sympathy</td>\n",
       "      <td>kerry go paris gesture sympathy</td>\n",
       "      <td>REAL</td>\n",
       "    </tr>\n",
       "    <tr>\n",
       "      <th>3</th>\n",
       "      <td>Bernie supporters on Twitter erupt in anger against the DNC: 'We tried to warn you!'</td>\n",
       "      <td>bernie supporters twitter erupt anger dnc tried warn</td>\n",
       "      <td>FAKE</td>\n",
       "    </tr>\n",
       "    <tr>\n",
       "      <th>4</th>\n",
       "      <td>The Battle of New York: Why This Primary Matters</td>\n",
       "      <td>battle new york primary matters</td>\n",
       "      <td>REAL</td>\n",
       "    </tr>\n",
       "    <tr>\n",
       "      <th>5</th>\n",
       "      <td>Tehran, USA</td>\n",
       "      <td>tehran usa</td>\n",
       "      <td>FAKE</td>\n",
       "    </tr>\n",
       "    <tr>\n",
       "      <th>6</th>\n",
       "      <td>Girl Horrified At What She Watches Boyfriend Do After He Left FaceTime On</td>\n",
       "      <td>girl horrified watches boyfriend left facetime</td>\n",
       "      <td>FAKE</td>\n",
       "    </tr>\n",
       "    <tr>\n",
       "      <th>7</th>\n",
       "      <td>‘Britain’s Schindler’ Dies at 106</td>\n",
       "      <td>britains schindler dies 106</td>\n",
       "      <td>REAL</td>\n",
       "    </tr>\n",
       "    <tr>\n",
       "      <th>8</th>\n",
       "      <td>Fact check: Trump and Clinton at the 'commander-in-chief' forum</td>\n",
       "      <td>fact check trump clinton commanderinchief forum</td>\n",
       "      <td>REAL</td>\n",
       "    </tr>\n",
       "    <tr>\n",
       "      <th>9</th>\n",
       "      <td>Iran reportedly makes new push for uranium concessions in nuclear talks</td>\n",
       "      <td>iran reportedly makes new push uranium concessions nuclear talks</td>\n",
       "      <td>REAL</td>\n",
       "    </tr>\n",
       "  </tbody>\n",
       "</table>\n",
       "</div>"
      ],
      "text/plain": [
       "                                                                                   title  \\\n",
       "0                                                           You Can Smell Hillary’s Fear   \n",
       "1  Watch The Exact Moment Paul Ryan Committed Political Suicide At A Trump Rally (VIDEO)   \n",
       "2                                            Kerry to go to Paris in gesture of sympathy   \n",
       "3   Bernie supporters on Twitter erupt in anger against the DNC: 'We tried to warn you!'   \n",
       "4                                       The Battle of New York: Why This Primary Matters   \n",
       "5                                                                            Tehran, USA   \n",
       "6              Girl Horrified At What She Watches Boyfriend Do After He Left FaceTime On   \n",
       "7                                                      ‘Britain’s Schindler’ Dies at 106   \n",
       "8                        Fact check: Trump and Clinton at the 'commander-in-chief' forum   \n",
       "9                Iran reportedly makes new push for uranium concessions in nuclear talks   \n",
       "\n",
       "                                                                    new_title  \\\n",
       "0                                                         smell hillarys fear   \n",
       "1  watch exact moment paul ryan committed political suicide trump rally video   \n",
       "2                                             kerry go paris gesture sympathy   \n",
       "3                        bernie supporters twitter erupt anger dnc tried warn   \n",
       "4                                             battle new york primary matters   \n",
       "5                                                                  tehran usa   \n",
       "6                              girl horrified watches boyfriend left facetime   \n",
       "7                                                 britains schindler dies 106   \n",
       "8                             fact check trump clinton commanderinchief forum   \n",
       "9            iran reportedly makes new push uranium concessions nuclear talks   \n",
       "\n",
       "  label  \n",
       "0  FAKE  \n",
       "1  FAKE  \n",
       "2  REAL  \n",
       "3  FAKE  \n",
       "4  REAL  \n",
       "5  FAKE  \n",
       "6  FAKE  \n",
       "7  REAL  \n",
       "8  REAL  \n",
       "9  REAL  "
      ]
     },
     "execution_count": 46,
     "metadata": {},
     "output_type": "execute_result"
    }
   ],
   "source": [
    "df_test= df[['title', 'new_title', 'label']]\n",
    "df_test.iloc[:10]"
   ]
  },
  {
   "cell_type": "code",
   "execution_count": 47,
   "metadata": {},
   "outputs": [],
   "source": [
    "def predict(x):\n",
    "    x = vec.transform([x])\n",
    "    x = x.toarray()\n",
    "    pred = rt.predict(x)\n",
    "    return pred    "
   ]
  },
  {
   "cell_type": "code",
   "execution_count": 48,
   "metadata": {},
   "outputs": [
    {
     "data": {
      "text/plain": [
       "array([0], dtype=int64)"
      ]
     },
     "execution_count": 48,
     "metadata": {},
     "output_type": "execute_result"
    }
   ],
   "source": [
    "predict('donald trump wins election')"
   ]
  },
  {
   "cell_type": "code",
   "execution_count": 49,
   "metadata": {},
   "outputs": [
    {
     "data": {
      "text/plain": [
       "array([0], dtype=int64)"
      ]
     },
     "execution_count": 49,
     "metadata": {},
     "output_type": "execute_result"
    }
   ],
   "source": [
    "predict('reports on debate tonight')"
   ]
  },
  {
   "cell_type": "code",
   "execution_count": 50,
   "metadata": {},
   "outputs": [
    {
     "data": {
      "text/plain": [
       "array([1], dtype=int64)"
      ]
     },
     "execution_count": 50,
     "metadata": {},
     "output_type": "execute_result"
    }
   ],
   "source": [
    "predict('drinking bleach cures covid')"
   ]
  },
  {
   "cell_type": "code",
   "execution_count": 51,
   "metadata": {},
   "outputs": [
    {
     "data": {
      "text/plain": [
       "array([0], dtype=int64)"
      ]
     },
     "execution_count": 51,
     "metadata": {},
     "output_type": "execute_result"
    }
   ],
   "source": [
    "#when i changed this from is or isis to the islamic state it went from fake to real\n",
    "predict('islamic state spreads across north africa')"
   ]
  },
  {
   "cell_type": "code",
   "execution_count": 88,
   "metadata": {},
   "outputs": [],
   "source": [
    "import pickle\n",
    "filename = 'RandmForest_model'\n",
    "pickle.dump(rt,open(filename, 'wb'))"
   ]
  },
  {
   "cell_type": "code",
   "execution_count": 89,
   "metadata": {},
   "outputs": [],
   "source": [
    "filename2 = 'tfidfbasic_model'\n",
    "pickle.dump(vec,open(filename2, 'wb'))"
   ]
  },
  {
   "cell_type": "code",
   "execution_count": null,
   "metadata": {},
   "outputs": [],
   "source": []
  }
 ],
 "metadata": {
  "kernelspec": {
   "display_name": "Python 3",
   "language": "python",
   "name": "python3"
  },
  "language_info": {
   "codemirror_mode": {
    "name": "ipython",
    "version": 3
   },
   "file_extension": ".py",
   "mimetype": "text/x-python",
   "name": "python",
   "nbconvert_exporter": "python",
   "pygments_lexer": "ipython3",
   "version": "3.7.4"
  }
 },
 "nbformat": 4,
 "nbformat_minor": 2
}
