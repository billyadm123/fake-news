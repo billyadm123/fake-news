{
 "cells": [
  {
   "cell_type": "code",
   "execution_count": 1,
   "metadata": {},
   "outputs": [
    {
     "name": "stderr",
     "output_type": "stream",
     "text": [
      "C:\\Users\\willi\\Anaconda3\\lib\\site-packages\\numpy\\_distributor_init.py:32: UserWarning: loaded more than 1 DLL from .libs:\n",
      "C:\\Users\\willi\\Anaconda3\\lib\\site-packages\\numpy\\.libs\\libopenblas.NOIJJG62EMASZI6NYURL6JBKM4EVBGM7.gfortran-win_amd64.dll\n",
      "C:\\Users\\willi\\Anaconda3\\lib\\site-packages\\numpy\\.libs\\libopenblas.XWYDX2IKJW2NMTWSFYNGFUWKQU3LYTCZ.gfortran-win_amd64.dll\n",
      "  stacklevel=1)\n",
      "C:\\Users\\willi\\Anaconda3\\lib\\site-packages\\statsmodels\\tools\\_testing.py:19: FutureWarning: pandas.util.testing is deprecated. Use the functions in the public API at pandas.testing instead.\n",
      "  import pandas.util.testing as tm\n"
     ]
    }
   ],
   "source": [
    "import seaborn as sns\n",
    "import numpy as np\n",
    "import matplotlib.pyplot as plt\n",
    "%matplotlib inline\n",
    "import pandas as pd\n",
    "pd.set_option('Display.max_colwidth', None)\n",
    "df = pd.read_csv('news.csv')"
   ]
  },
  {
   "cell_type": "code",
   "execution_count": 2,
   "metadata": {},
   "outputs": [
    {
     "data": {
      "text/plain": [
       "6335"
      ]
     },
     "execution_count": 2,
     "metadata": {},
     "output_type": "execute_result"
    }
   ],
   "source": [
    "len(df)"
   ]
  },
  {
   "cell_type": "code",
   "execution_count": 3,
   "metadata": {},
   "outputs": [
    {
     "name": "stderr",
     "output_type": "stream",
     "text": [
      "[nltk_data] Downloading package wordnet to\n",
      "[nltk_data]     C:\\Users\\willi\\AppData\\Roaming\\nltk_data...\n",
      "[nltk_data]   Package wordnet is already up-to-date!\n",
      "[nltk_data] Error loading Punkt: Package 'Punkt' not found in index\n"
     ]
    }
   ],
   "source": [
    "import re\n",
    "import nltk\n",
    "from nltk.tag import pos_tag\n",
    "from nltk.tokenize import word_tokenize\n",
    "from nltk.tokenize import sent_tokenize\n",
    "from nltk.corpus import stopwords\n",
    "nltk.download('wordnet')\n",
    "nltk.download('Punkt')\n",
    "import string"
   ]
  },
  {
   "cell_type": "code",
   "execution_count": 4,
   "metadata": {},
   "outputs": [],
   "source": [
    "def lower(text):\n",
    "    new_text = text.lower()\n",
    "    return new_text"
   ]
  },
  {
   "cell_type": "code",
   "execution_count": 5,
   "metadata": {},
   "outputs": [],
   "source": [
    "def remove_punc(text):\n",
    "    new_text = re.sub(r'[^\\w\\s]', '',text)\n",
    "    return new_text    "
   ]
  },
  {
   "cell_type": "code",
   "execution_count": 6,
   "metadata": {},
   "outputs": [],
   "source": [
    "def remove_stopwords(text):\n",
    "    stop = set(stopwords.words('english'))\n",
    "    new_text = ' '.join(word for word in text.split() if word not in stop)\n",
    "    return new_text"
   ]
  },
  {
   "cell_type": "code",
   "execution_count": 7,
   "metadata": {},
   "outputs": [],
   "source": [
    "def tokens(text):\n",
    "    new_text = nltk.word_tokenize(text)\n",
    "    new_text = ' '.join(new_text)\n",
    "    return new_text"
   ]
  },
  {
   "cell_type": "code",
   "execution_count": 8,
   "metadata": {},
   "outputs": [],
   "source": [
    "def sent_tokens(text):\n",
    "    new_text = nltk.sent_tokenize(text)\n",
    "    new_text = ' '.join(new_text)\n",
    "    return new_text"
   ]
  },
  {
   "cell_type": "markdown",
   "metadata": {},
   "source": [
    "## Changing the order improved false preds precision"
   ]
  },
  {
   "cell_type": "code",
   "execution_count": 9,
   "metadata": {},
   "outputs": [],
   "source": [
    "df['new_title'] = df['title'].apply(tokens)"
   ]
  },
  {
   "cell_type": "code",
   "execution_count": 10,
   "metadata": {},
   "outputs": [],
   "source": [
    "df['new_text'] = df['text'].apply(tokens)"
   ]
  },
  {
   "cell_type": "code",
   "execution_count": 11,
   "metadata": {},
   "outputs": [],
   "source": [
    "df['new_text'] = df['new_text'].apply(sent_tokens)"
   ]
  },
  {
   "cell_type": "code",
   "execution_count": 12,
   "metadata": {},
   "outputs": [],
   "source": [
    "df['new_title'] = df['new_title'].apply(lambda x: x.lower())"
   ]
  },
  {
   "cell_type": "code",
   "execution_count": 13,
   "metadata": {},
   "outputs": [],
   "source": [
    "df['new_text'] = df['new_text'].apply(lambda x: x.lower())"
   ]
  },
  {
   "cell_type": "code",
   "execution_count": 14,
   "metadata": {},
   "outputs": [],
   "source": [
    "df['new_title'] = df['new_title'].apply(remove_punc)"
   ]
  },
  {
   "cell_type": "code",
   "execution_count": 15,
   "metadata": {},
   "outputs": [],
   "source": [
    "df['new_text'] = df['new_text'].apply(remove_punc)"
   ]
  },
  {
   "cell_type": "code",
   "execution_count": 16,
   "metadata": {},
   "outputs": [],
   "source": [
    "df['new_title'] = df['new_title'].apply(remove_stopwords)"
   ]
  },
  {
   "cell_type": "code",
   "execution_count": 17,
   "metadata": {},
   "outputs": [],
   "source": [
    "df['new_text'] = df['new_text'].apply(remove_stopwords)"
   ]
  },
  {
   "cell_type": "code",
   "execution_count": 18,
   "metadata": {},
   "outputs": [],
   "source": [
    "training_data = df[['new_title','label']]"
   ]
  },
  {
   "cell_type": "code",
   "execution_count": 19,
   "metadata": {},
   "outputs": [
    {
     "data": {
      "text/html": [
       "<div>\n",
       "<style scoped>\n",
       "    .dataframe tbody tr th:only-of-type {\n",
       "        vertical-align: middle;\n",
       "    }\n",
       "\n",
       "    .dataframe tbody tr th {\n",
       "        vertical-align: top;\n",
       "    }\n",
       "\n",
       "    .dataframe thead th {\n",
       "        text-align: right;\n",
       "    }\n",
       "</style>\n",
       "<table border=\"1\" class=\"dataframe\">\n",
       "  <thead>\n",
       "    <tr style=\"text-align: right;\">\n",
       "      <th></th>\n",
       "      <th>new_title</th>\n",
       "      <th>label</th>\n",
       "    </tr>\n",
       "  </thead>\n",
       "  <tbody>\n",
       "    <tr>\n",
       "      <th>0</th>\n",
       "      <td>smell hillary fear</td>\n",
       "      <td>FAKE</td>\n",
       "    </tr>\n",
       "    <tr>\n",
       "      <th>1</th>\n",
       "      <td>watch exact moment paul ryan committed political suicide trump rally video</td>\n",
       "      <td>FAKE</td>\n",
       "    </tr>\n",
       "    <tr>\n",
       "      <th>2</th>\n",
       "      <td>kerry go paris gesture sympathy</td>\n",
       "      <td>REAL</td>\n",
       "    </tr>\n",
       "    <tr>\n",
       "      <th>3</th>\n",
       "      <td>bernie supporters twitter erupt anger dnc tried warn</td>\n",
       "      <td>FAKE</td>\n",
       "    </tr>\n",
       "    <tr>\n",
       "      <th>4</th>\n",
       "      <td>battle new york primary matters</td>\n",
       "      <td>REAL</td>\n",
       "    </tr>\n",
       "  </tbody>\n",
       "</table>\n",
       "</div>"
      ],
      "text/plain": [
       "                                                                    new_title  \\\n",
       "0                                                          smell hillary fear   \n",
       "1  watch exact moment paul ryan committed political suicide trump rally video   \n",
       "2                                             kerry go paris gesture sympathy   \n",
       "3                        bernie supporters twitter erupt anger dnc tried warn   \n",
       "4                                             battle new york primary matters   \n",
       "\n",
       "  label  \n",
       "0  FAKE  \n",
       "1  FAKE  \n",
       "2  REAL  \n",
       "3  FAKE  \n",
       "4  REAL  "
      ]
     },
     "execution_count": 19,
     "metadata": {},
     "output_type": "execute_result"
    }
   ],
   "source": [
    "training_data.head()"
   ]
  },
  {
   "cell_type": "code",
   "execution_count": 20,
   "metadata": {},
   "outputs": [
    {
     "data": {
      "text/plain": [
       "6335"
      ]
     },
     "execution_count": 20,
     "metadata": {},
     "output_type": "execute_result"
    }
   ],
   "source": [
    "len(df)"
   ]
  },
  {
   "cell_type": "code",
   "execution_count": 21,
   "metadata": {},
   "outputs": [
    {
     "name": "stderr",
     "output_type": "stream",
     "text": [
      "C:\\Users\\willi\\Anaconda3\\lib\\site-packages\\ipykernel_launcher.py:1: SettingWithCopyWarning: \n",
      "A value is trying to be set on a copy of a slice from a DataFrame.\n",
      "Try using .loc[row_indexer,col_indexer] = value instead\n",
      "\n",
      "See the caveats in the documentation: https://pandas.pydata.org/pandas-docs/stable/user_guide/indexing.html#returning-a-view-versus-a-copy\n",
      "  \"\"\"Entry point for launching an IPython kernel.\n"
     ]
    }
   ],
   "source": [
    "training_data['label'] = training_data['label'].replace({'FAKE': 1, 'REAL':0})"
   ]
  },
  {
   "cell_type": "code",
   "execution_count": 22,
   "metadata": {},
   "outputs": [],
   "source": [
    "train = training_data[0:5200]"
   ]
  },
  {
   "cell_type": "code",
   "execution_count": 23,
   "metadata": {},
   "outputs": [],
   "source": [
    "test = training_data[5200:6335]"
   ]
  },
  {
   "cell_type": "code",
   "execution_count": 24,
   "metadata": {},
   "outputs": [],
   "source": [
    "import sklearn\n",
    "from sklearn.neural_network import MLPClassifier\n",
    "from sklearn.feature_extraction.text import TfidfVectorizer\n",
    "## adding trigrams increased accuracy\n",
    "vec = TfidfVectorizer(ngram_range=(1,3))"
   ]
  },
  {
   "cell_type": "code",
   "execution_count": 25,
   "metadata": {},
   "outputs": [],
   "source": [
    "train_data = vec.fit_transform(train['new_title'])"
   ]
  },
  {
   "cell_type": "code",
   "execution_count": 26,
   "metadata": {},
   "outputs": [],
   "source": [
    "#vec.idf_"
   ]
  },
  {
   "cell_type": "code",
   "execution_count": 27,
   "metadata": {},
   "outputs": [
    {
     "data": {
      "text/plain": [
       "{'smell': 51893,\n",
       " 'hillary': 26048,\n",
       " 'fear': 20982,\n",
       " 'smell hillary': 51895,\n",
       " 'hillary fear': 26323,\n",
       " 'smell hillary fear': 51896,\n",
       " 'watch': 62030,\n",
       " 'exact': 19625,\n",
       " 'moment': 35732,\n",
       " 'paul': 40791,\n",
       " 'ryan': 48632,\n",
       " 'committed': 12218,\n",
       " 'political': 42246,\n",
       " 'suicide': 54099,\n",
       " 'trump': 57402,\n",
       " 'rally': 45021,\n",
       " 'video': 60688,\n",
       " 'watch exact': 62041,\n",
       " 'exact moment': 19626,\n",
       " 'moment paul': 35742,\n",
       " 'paul ryan': 40835,\n",
       " 'ryan committed': 48639,\n",
       " 'committed political': 12221,\n",
       " 'political suicide': 42309,\n",
       " 'suicide trump': 54113,\n",
       " 'trump rally': 58208,\n",
       " 'rally video': 45057,\n",
       " 'watch exact moment': 62042,\n",
       " 'exact moment paul': 19627,\n",
       " 'moment paul ryan': 35743,\n",
       " 'paul ryan committed': 40839,\n",
       " 'ryan committed political': 48640,\n",
       " 'committed political suicide': 12222,\n",
       " 'political suicide trump': 42310,\n",
       " 'suicide trump rally': 54114,\n",
       " 'trump rally video': 58215,\n",
       " 'kerry': 30429,\n",
       " 'go': 24010,\n",
       " 'paris': 40422,\n",
       " 'gesture': 23592,\n",
       " 'sympathy': 54759,\n",
       " 'kerry go': 30438,\n",
       " 'go paris': 24032,\n",
       " 'paris gesture': 40442,\n",
       " 'gesture sympathy': 23593,\n",
       " 'kerry go paris': 30439,\n",
       " 'go paris gesture': 24033,\n",
       " 'paris gesture sympathy': 40443,\n",
       " 'bernie': 5809,\n",
       " 'supporters': 54305,\n",
       " 'twitter': 59017,\n",
       " 'erupt': 19218,\n",
       " 'anger': 3259,\n",
       " 'dnc': 16928,\n",
       " 'tried': 57203,\n",
       " 'warn': 61833,\n",
       " 'bernie supporters': 5868,\n",
       " 'supporters twitter': 54348,\n",
       " 'twitter erupt': 59023,\n",
       " 'erupt anger': 19219,\n",
       " 'anger dnc': 3260,\n",
       " 'dnc tried': 16960,\n",
       " 'tried warn': 57218,\n",
       " 'bernie supporters twitter': 5871,\n",
       " 'supporters twitter erupt': 54349,\n",
       " 'twitter erupt anger': 59024,\n",
       " 'erupt anger dnc': 19220,\n",
       " 'anger dnc tried': 3261,\n",
       " 'dnc tried warn': 16961,\n",
       " 'battle': 5356,\n",
       " 'new': 37211,\n",
       " 'york': 63989,\n",
       " 'primary': 43407,\n",
       " 'matters': 34311,\n",
       " 'battle new': 5378,\n",
       " 'new york': 37506,\n",
       " 'york primary': 64004,\n",
       " 'primary matters': 43430,\n",
       " 'battle new york': 5379,\n",
       " 'new york primary': 37514,\n",
       " 'york primary matters': 64005,\n",
       " 'tehran': 55474,\n",
       " 'usa': 60142,\n",
       " 'tehran usa': 55475,\n",
       " 'girl': 23798,\n",
       " 'horrified': 27067,\n",
       " 'watches': 62094,\n",
       " 'boyfriend': 7225,\n",
       " 'left': 31805,\n",
       " 'facetime': 20290,\n",
       " 'girl horrified': 23801,\n",
       " 'horrified watches': 27070,\n",
       " 'watches boyfriend': 62095,\n",
       " 'boyfriend left': 7228,\n",
       " 'left facetime': 31812,\n",
       " 'girl horrified watches': 23802,\n",
       " 'horrified watches boyfriend': 27071,\n",
       " 'watches boyfriend left': 62096,\n",
       " 'boyfriend left facetime': 7229,\n",
       " 'britain': 7582,\n",
       " 'schindler': 49628,\n",
       " 'dies': 16427,\n",
       " '106': 90,\n",
       " 'britain schindler': 7593,\n",
       " 'schindler dies': 49629,\n",
       " 'dies 106': 16428,\n",
       " 'britain schindler dies': 7594,\n",
       " 'schindler dies 106': 49630,\n",
       " 'fact': 20302,\n",
       " 'check': 9846,\n",
       " 'clinton': 10650,\n",
       " 'commanderinchief': 11980,\n",
       " 'forum': 22521,\n",
       " 'fact check': 20303,\n",
       " 'check trump': 9868,\n",
       " 'trump clinton': 57603,\n",
       " 'clinton commanderinchief': 10833,\n",
       " 'commanderinchief forum': 11981,\n",
       " 'fact check trump': 20311,\n",
       " 'check trump clinton': 9869,\n",
       " 'trump clinton commanderinchief': 57608,\n",
       " 'clinton commanderinchief forum': 10834,\n",
       " 'iran': 28958,\n",
       " 'reportedly': 46509,\n",
       " 'makes': 33554,\n",
       " 'push': 44423,\n",
       " 'uranium': 59735,\n",
       " 'concessions': 12399,\n",
       " 'nuclear': 38297,\n",
       " 'talks': 55135,\n",
       " 'iran reportedly': 29022,\n",
       " 'reportedly makes': 46524,\n",
       " 'makes new': 33588,\n",
       " 'new push': 37422,\n",
       " 'push uranium': 44448,\n",
       " 'uranium concessions': 59736,\n",
       " 'concessions nuclear': 12400,\n",
       " 'nuclear talks': 38333,\n",
       " 'iran reportedly makes': 29023,\n",
       " 'reportedly makes new': 46525,\n",
       " 'makes new push': 33589,\n",
       " 'new push uranium': 37423,\n",
       " 'push uranium concessions': 44449,\n",
       " 'uranium concessions nuclear': 59737,\n",
       " 'concessions nuclear talks': 12401,\n",
       " 'three': 56189,\n",
       " 'clintons': 11444,\n",
       " 'iowa': 28899,\n",
       " 'glimpse': 23919,\n",
       " 'fire': 21670,\n",
       " 'eluded': 18474,\n",
       " 'campaign': 8450,\n",
       " 'three clintons': 56192,\n",
       " 'clintons iowa': 11461,\n",
       " 'iowa glimpse': 28916,\n",
       " 'glimpse fire': 23922,\n",
       " 'fire eluded': 21680,\n",
       " 'eluded hillary': 18475,\n",
       " 'hillary clinton': 26109,\n",
       " 'clinton campaign': 10768,\n",
       " 'three clintons iowa': 56193,\n",
       " 'clintons iowa glimpse': 11462,\n",
       " 'iowa glimpse fire': 28917,\n",
       " 'glimpse fire eluded': 23923,\n",
       " 'fire eluded hillary': 21681,\n",
       " 'eluded hillary clinton': 18476,\n",
       " 'hillary clinton campaign': 26134,\n",
       " 'donald': 17089,\n",
       " 'shockingly': 51007,\n",
       " 'weak': 62227,\n",
       " 'delegate': 15549,\n",
       " 'game': 23267,\n",
       " 'somehow': 52135,\n",
       " 'got': 24592,\n",
       " 'even': 19396,\n",
       " 'worse': 63565,\n",
       " 'donald trump': 17096,\n",
       " 'trump shockingly': 58345,\n",
       " 'shockingly weak': 51008,\n",
       " 'weak delegate': 62228,\n",
       " 'delegate game': 15551,\n",
       " 'game somehow': 23286,\n",
       " 'somehow got': 52136,\n",
       " 'got even': 24603,\n",
       " 'even worse': 19437,\n",
       " 'donald trump shockingly': 17223,\n",
       " 'trump shockingly weak': 58346,\n",
       " 'shockingly weak delegate': 51009,\n",
       " 'weak delegate game': 62229,\n",
       " 'delegate game somehow': 15552,\n",
       " 'game somehow got': 23287,\n",
       " 'somehow got even': 52137,\n",
       " 'got even worse': 24605,\n",
       " 'strong': 53762,\n",
       " 'solar': 52064,\n",
       " 'storm': 53531,\n",
       " 'tech': 55407,\n",
       " 'risks': 47664,\n",
       " 'today': 56498,\n",
       " 's0': 48690,\n",
       " 'news': 37532,\n",
       " 'oct262016': 39153,\n",
       " 'strong solar': 53780,\n",
       " 'solar storm': 52070,\n",
       " 'storm tech': 53545,\n",
       " 'tech risks': 55411,\n",
       " 'risks today': 47668,\n",
       " 'today s0': 56518,\n",
       " 's0 news': 48691,\n",
       " 'news oct262016': 37583,\n",
       " 'oct262016 video': 39154,\n",
       " 'strong solar storm': 53781,\n",
       " 'solar storm tech': 52072,\n",
       " 'storm tech risks': 53546,\n",
       " 'tech risks today': 55412,\n",
       " 'risks today s0': 47669,\n",
       " 'today s0 news': 56519,\n",
       " 's0 news oct262016': 48692,\n",
       " 'news oct262016 video': 37584,\n",
       " '10': 10,\n",
       " 'ways': 62192,\n",
       " 'america': 2776,\n",
       " 'preparing': 42974,\n",
       " 'world': 63420,\n",
       " 'war': 61654,\n",
       " '10 ways': 40,\n",
       " 'ways america': 62193,\n",
       " 'america preparing': 2888,\n",
       " 'preparing world': 42981,\n",
       " 'world war': 63502,\n",
       " '10 ways america': 41,\n",
       " 'ways america preparing': 62194,\n",
       " 'america preparing world': 2889,\n",
       " 'preparing world war': 42982,\n",
       " 'takes': 55024,\n",
       " 'cruz': 14138,\n",
       " 'lightly': 32315,\n",
       " 'trump takes': 58455,\n",
       " 'takes cruz': 55039,\n",
       " 'cruz lightly': 14225,\n",
       " 'trump takes cruz': 58456,\n",
       " 'takes cruz lightly': 55040,\n",
       " 'women': 63241,\n",
       " 'lead': 31476,\n",
       " 'differently': 16477,\n",
       " 'women lead': 63264,\n",
       " 'lead differently': 31485,\n",
       " 'women lead differently': 63265,\n",
       " 'shocking': 50982,\n",
       " 'michele': 35092,\n",
       " 'obama': 38478,\n",
       " 'caught': 9229,\n",
       " 'glamorizing': 23904,\n",
       " 'date': 14702,\n",
       " 'rape': 45135,\n",
       " 'promoters': 43862,\n",
       " 'shocking michele': 50995,\n",
       " 'michele obama': 35093,\n",
       " 'obama hillary': 38676,\n",
       " 'hillary caught': 26106,\n",
       " 'caught glamorizing': 9250,\n",
       " 'glamorizing date': 23905,\n",
       " 'date rape': 14703,\n",
       " 'rape promoters': 45140,\n",
       " 'shocking michele obama': 50996,\n",
       " 'michele obama hillary': 35094,\n",
       " 'obama hillary caught': 38677,\n",
       " 'hillary caught glamorizing': 26108,\n",
       " 'caught glamorizing date': 9251,\n",
       " 'glamorizing date rape': 23906,\n",
       " 'date rape promoters': 14704,\n",
       " 'huge': 27353,\n",
       " 'trouble': 57337,\n",
       " 'noticed': 38060,\n",
       " 'sick': 51354,\n",
       " 'thing': 55882,\n",
       " 'hidden': 25921,\n",
       " 'picture': 41440,\n",
       " 'liberty': 32172,\n",
       " 'writers': 63733,\n",
       " 'clinton huge': 11036,\n",
       " 'huge trouble': 27367,\n",
       " 'trouble america': 57338,\n",
       " 'america noticed': 2873,\n",
       " 'noticed sick': 38063,\n",
       " 'sick thing': 51364,\n",
       " 'thing hidden': 55889,\n",
       " 'hidden picture': 25924,\n",
       " 'picture liberty': 41447,\n",
       " 'liberty writers': 32177,\n",
       " 'writers news': 63734,\n",
       " 'hillary clinton huge': 26175,\n",
       " 'clinton huge trouble': 11037,\n",
       " 'huge trouble america': 27368,\n",
       " 'trouble america noticed': 57339,\n",
       " 'america noticed sick': 2874,\n",
       " 'noticed sick thing': 38064,\n",
       " 'sick thing hidden': 51365,\n",
       " 'thing hidden picture': 55890,\n",
       " 'hidden picture liberty': 25925,\n",
       " 'picture liberty writers': 41448,\n",
       " 'liberty writers news': 32178,\n",
       " 'bill': 6214,\n",
       " 'nt': 38159,\n",
       " 'like': 32323,\n",
       " 'iran bill': 28968,\n",
       " 'bill obama': 6277,\n",
       " 'obama nt': 38780,\n",
       " 'nt like': 38213,\n",
       " 'iran bill obama': 28970,\n",
       " 'bill obama nt': 6278,\n",
       " 'obama nt like': 38781,\n",
       " 'chart': 9804,\n",
       " 'explains': 19924,\n",
       " 'everything': 19559,\n",
       " 'need': 36906,\n",
       " 'know': 30830,\n",
       " 'partisanship': 40556,\n",
       " 'chart explains': 9807,\n",
       " 'explains everything': 19930,\n",
       " 'everything need': 19566,\n",
       " 'need know': 36922,\n",
       " 'know partisanship': 30860,\n",
       " 'partisanship america': 40557,\n",
       " 'chart explains everything': 9808,\n",
       " 'explains everything need': 19931,\n",
       " 'everything need know': 19567,\n",
       " 'need know partisanship': 36926,\n",
       " 'know partisanship america': 30861,\n",
       " 'slippery': 51798,\n",
       " 'slope': 51814,\n",
       " 'proposed': 43956,\n",
       " 'ban': 5131,\n",
       " 'muslims': 36361,\n",
       " 'slippery slope': 51799,\n",
       " 'slope trump': 51815,\n",
       " 'trump proposed': 58184,\n",
       " 'proposed ban': 43957,\n",
       " 'ban muslims': 5138,\n",
       " 'slippery slope trump': 51800,\n",
       " 'slope trump proposed': 51816,\n",
       " 'trump proposed ban': 58185,\n",
       " 'proposed ban muslims': 43958,\n",
       " 'episode': 19128,\n",
       " '160': 249,\n",
       " 'sunday': 54152,\n",
       " 'wire': 63098,\n",
       " 'hail': 25214,\n",
       " 'deplorables': 16057,\n",
       " 'special': 52447,\n",
       " 'guest': 25028,\n",
       " 'randy': 45111,\n",
       " 'episode 160': 19131,\n",
       " '160 sunday': 250,\n",
       " 'sunday wire': 54159,\n",
       " 'wire hail': 63101,\n",
       " 'hail deplorables': 25215,\n",
       " 'deplorables special': 16067,\n",
       " 'special guest': 52454,\n",
       " 'guest randy': 25031,\n",
       " 'episode 160 sunday': 19132,\n",
       " '160 sunday wire': 251,\n",
       " 'sunday wire hail': 54160,\n",
       " 'wire hail deplorables': 63102,\n",
       " 'hail deplorables special': 25216,\n",
       " 'deplorables special guest': 16068,\n",
       " 'special guest randy': 52455,\n",
       " 'bipartisan': 6362,\n",
       " 'appeal': 3758,\n",
       " 'staten': 53144,\n",
       " 'island': 29345,\n",
       " 'clinton makes': 11112,\n",
       " 'makes bipartisan': 33561,\n",
       " 'bipartisan appeal': 6363,\n",
       " 'appeal staten': 3772,\n",
       " 'staten island': 53145,\n",
       " 'hillary clinton makes': 26188,\n",
       " 'clinton makes bipartisan': 11113,\n",
       " 'makes bipartisan appeal': 33562,\n",
       " 'bipartisan appeal staten': 6364,\n",
       " 'appeal staten island': 3773,\n",
       " 'senate': 50285,\n",
       " 'majority': 33466,\n",
       " 'leader': 31505,\n",
       " 'main': 33420,\n",
       " 'goal': 24050,\n",
       " 'gop': 24294,\n",
       " 'scary': 49595,\n",
       " 'new senate': 37450,\n",
       " 'senate majority': 50323,\n",
       " 'majority leader': 33468,\n",
       " 'leader main': 31515,\n",
       " 'main goal': 33423,\n",
       " 'goal gop': 24051,\n",
       " 'gop scary': 24519,\n",
       " 'new senate majority': 37452,\n",
       " 'senate majority leader': 50325,\n",
       " 'majority leader main': 33469,\n",
       " 'leader main goal': 31516,\n",
       " 'main goal gop': 33424,\n",
       " 'goal gop scary': 24052,\n",
       " 'inferno': 28235,\n",
       " 'overpopulation': 40093,\n",
       " 'myth': 36483,\n",
       " 'inferno overpopulation': 28236,\n",
       " 'overpopulation myth': 40094,\n",
       " 'inferno overpopulation myth': 28237,\n",
       " 'antitrump': 3613,\n",
       " 'forces': 22333,\n",
       " 'seek': 50103,\n",
       " 'lastditch': 31192,\n",
       " 'revolt': 47290,\n",
       " 'antitrump forces': 3626,\n",
       " 'forces seek': 22361,\n",
       " 'seek lastditch': 50108,\n",
       " 'lastditch delegate': 31193,\n",
       " 'delegate revolt': 15557,\n",
       " 'antitrump forces seek': 3627,\n",
       " 'forces seek lastditch': 22362,\n",
       " 'seek lastditch delegate': 50109,\n",
       " 'lastditch delegate revolt': 31194,\n",
       " 'sanders': 48859,\n",
       " 'trounces': 57362,\n",
       " 'va': 60331,\n",
       " 'make': 33473,\n",
       " 'difference': 16443,\n",
       " 'sanders trounces': 49022,\n",
       " 'trounces clinton': 57363,\n",
       " 'clinton va': 11406,\n",
       " 'va make': 60342,\n",
       " 'make difference': 33489,\n",
       " 'sanders trounces clinton': 49023,\n",
       " 'trounces clinton va': 57364,\n",
       " 'clinton va make': 11407,\n",
       " 'va make difference': 60343,\n",
       " 'changing': 9656,\n",
       " 'slogan': 51809,\n",
       " 'prove': 44173,\n",
       " 'racist': 44863,\n",
       " 'trump changing': 57585,\n",
       " 'changing campaign': 9657,\n",
       " 'campaign slogan': 8583,\n",
       " 'slogan prove': 51810,\n",
       " 'prove racist': 44178,\n",
       " 'donald trump changing': 17120,\n",
       " 'trump changing campaign': 57586,\n",
       " 'changing campaign slogan': 9658,\n",
       " 'campaign slogan prove': 8584,\n",
       " 'slogan prove racist': 51811,\n",
       " 'pure': 44405,\n",
       " 'chaos': 9683,\n",
       " 'management': 33761,\n",
       " 'offers': 39218,\n",
       " 'governing': 24664,\n",
       " 'style': 53945,\n",
       " 'spoiler': 52670,\n",
       " 'alert': 2444,\n",
       " 'terrible': 55605,\n",
       " 'pure chaos': 44406,\n",
       " 'chaos donald': 9688,\n",
       " 'trump campaign': 57554,\n",
       " 'campaign management': 8561,\n",
       " 'management offers': 33762,\n",
       " 'offers glimpse': 39221,\n",
       " 'glimpse governing': 23924,\n",
       " 'governing style': 24667,\n",
       " 'style spoiler': 53948,\n",
       " 'spoiler alert': 52671,\n",
       " 'alert terrible': 2453,\n",
       " 'pure chaos donald': 44407,\n",
       " 'chaos donald trump': 9689,\n",
       " 'donald trump campaign': 17119,\n",
       " 'trump campaign management': 57564,\n",
       " 'campaign management offers': 8562,\n",
       " 'management offers glimpse': 33763,\n",
       " 'offers glimpse governing': 39222,\n",
       " 'glimpse governing style': 23925,\n",
       " 'governing style spoiler': 24668,\n",
       " 'style spoiler alert': 53949,\n",
       " 'spoiler alert terrible': 52672,\n",
       " 'syrian': 54834,\n",
       " 'report': 46435,\n",
       " 'november': 38090,\n",
       " '2016': 453,\n",
       " 'military': 35249,\n",
       " 'deploys': 16078,\n",
       " 'advanced': 1910,\n",
       " 't90': 54900,\n",
       " 'tanks': 55182,\n",
       " 'aleppo': 2431,\n",
       " 'syrian war': 54864,\n",
       " 'war report': 61762,\n",
       " 'report november': 46474,\n",
       " 'november 2016': 38097,\n",
       " '2016 syrian': 610,\n",
       " 'syrian military': 54850,\n",
       " 'military deploys': 35263,\n",
       " 'deploys advanced': 16079,\n",
       " 'advanced t90': 1913,\n",
       " 't90 battle': 54901,\n",
       " 'battle tanks': 5393,\n",
       " 'tanks aleppo': 55183,\n",
       " 'syrian war report': 54865,\n",
       " 'war report november': 61763,\n",
       " 'report november 2016': 46476,\n",
       " 'november 2016 syrian': 38100,\n",
       " '2016 syrian military': 612,\n",
       " 'syrian military deploys': 54851,\n",
       " 'military deploys advanced': 35264,\n",
       " 'deploys advanced t90': 16080,\n",
       " 'advanced t90 battle': 1914,\n",
       " 't90 battle tanks': 54902,\n",
       " 'battle tanks aleppo': 5394,\n",
       " 'insiders': 28438,\n",
       " 'carly': 8957,\n",
       " 'crushed': 14122,\n",
       " 'gop insiders': 24426,\n",
       " 'insiders carly': 28439,\n",
       " 'carly crushed': 8958,\n",
       " 'gop insiders carly': 24427,\n",
       " 'insiders carly crushed': 28440,\n",
       " 'jeffrey': 29679,\n",
       " 'sewell': 50638,\n",
       " 'et': 19293,\n",
       " 'al': 2369,\n",
       " 'metabiology': 35006,\n",
       " 'face': 20176,\n",
       " 'artificial': 4154,\n",
       " 'intelligence': 28553,\n",
       " 'jeffrey sewell': 29680,\n",
       " 'sewell et': 50639,\n",
       " 'et al': 19294,\n",
       " 'al metabiology': 2373,\n",
       " 'metabiology face': 35007,\n",
       " 'face face': 20190,\n",
       " 'face artificial': 20181,\n",
       " 'artificial intelligence': 4155,\n",
       " 'intelligence video': 28570,\n",
       " 'jeffrey sewell et': 29681,\n",
       " 'sewell et al': 50640,\n",
       " 'et al metabiology': 19295,\n",
       " 'al metabiology face': 2374,\n",
       " 'metabiology face face': 35008,\n",
       " 'face face artificial': 20191,\n",
       " 'face artificial intelligence': 20182,\n",
       " 'artificial intelligence video': 4156,\n",
       " 'necessary': 36890,\n",
       " 'relax': 46117,\n",
       " 'stretch': 53719,\n",
       " 'necessary relax': 36897,\n",
       " 'relax stretch': 46118,\n",
       " 'necessary relax stretch': 36898,\n",
       " 'brexit': 7455,\n",
       " 'encourages': 18781,\n",
       " 'uk': 59159,\n",
       " 'trade': 56898,\n",
       " 'noneu': 37945,\n",
       " 'states': 53146,\n",
       " 'including': 28014,\n",
       " 'russia': 48354,\n",
       " 'brexit encourages': 7459,\n",
       " 'encourages uk': 18784,\n",
       " 'uk trade': 59178,\n",
       " 'trade noneu': 56922,\n",
       " 'noneu states': 37946,\n",
       " 'states including': 53161,\n",
       " 'including russia': 28017,\n",
       " 'brexit encourages uk': 7460,\n",
       " 'encourages uk trade': 18785,\n",
       " 'uk trade noneu': 59179,\n",
       " 'trade noneu states': 56923,\n",
       " 'noneu states including': 37947,\n",
       " 'states including russia': 53162,\n",
       " 'interview': 28689,\n",
       " 'socrates': 52043,\n",
       " 'another': 3397,\n",
       " 'day': 14751,\n",
       " 'life': 32237,\n",
       " 'empire': 18726,\n",
       " 'near': 36823,\n",
       " 'endgame': 18867,\n",
       " 'fools': 22255,\n",
       " 'ever': 19466,\n",
       " 'hope': 27009,\n",
       " 'change': 9574,\n",
       " '2016 interview': 531,\n",
       " 'interview socrates': 28708,\n",
       " 'socrates another': 52044,\n",
       " 'another day': 3417,\n",
       " 'day life': 14789,\n",
       " 'life empire': 32253,\n",
       " 'empire near': 18729,\n",
       " 'near endgame': 36833,\n",
       " 'endgame fools': 18868,\n",
       " 'fools ever': 22256,\n",
       " 'ever hope': 19482,\n",
       " 'hope change': 27014,\n",
       " '2016 interview socrates': 532,\n",
       " 'interview socrates another': 28709,\n",
       " 'socrates another day': 52045,\n",
       " 'another day life': 3419,\n",
       " 'day life empire': 14791,\n",
       " 'life empire near': 32254,\n",
       " 'empire near endgame': 18730,\n",
       " 'near endgame fools': 36834,\n",
       " 'endgame fools ever': 18869,\n",
       " 'fools ever hope': 22257,\n",
       " 'ever hope change': 19483,\n",
       " 'mike': 35207,\n",
       " 'pence': 40979,\n",
       " 'drapes': 17500,\n",
       " 'shawl': 50854,\n",
       " 'immodest': 27823,\n",
       " 'lady': 31021,\n",
       " 'justice': 30182,\n",
       " 'statue': 53211,\n",
       " 'onion': 39605,\n",
       " 'finest': 21608,\n",
       " 'source': 52270,\n",
       " 'mike pence': 35218,\n",
       " 'pence drapes': 40988,\n",
       " 'drapes shawl': 17501,\n",
       " 'shawl immodest': 50855,\n",
       " 'immodest lady': 27824,\n",
       " 'lady justice': 31026,\n",
       " 'justice statue': 30201,\n",
       " 'statue onion': 53214,\n",
       " 'onion america': 39606,\n",
       " 'america finest': 2825,\n",
       " 'finest news': 21609,\n",
       " 'news source': 37617,\n",
       " 'mike pence drapes': 35219,\n",
       " 'pence drapes shawl': 40989,\n",
       " 'drapes shawl immodest': 17502,\n",
       " 'shawl immodest lady': 50856,\n",
       " 'immodest lady justice': 27825,\n",
       " 'lady justice statue': 31027,\n",
       " 'justice statue onion': 30202,\n",
       " 'statue onion america': 53215,\n",
       " 'onion america finest': 39607,\n",
       " 'america finest news': 2826,\n",
       " 'finest news source': 21610,\n",
       " 'first': 21756,\n",
       " 'hindu': 26605,\n",
       " 'woman': 63208,\n",
       " 'elected': 18177,\n",
       " 'congress': 12548,\n",
       " 'first ever': 21782,\n",
       " 'ever hindu': 19480,\n",
       " 'hindu woman': 26610,\n",
       " 'woman elected': 63218,\n",
       " 'elected congress': 18178,\n",
       " 'first ever hindu': 21785,\n",
       " 'ever hindu woman': 19481,\n",
       " 'hindu woman elected': 26611,\n",
       " 'woman elected congress': 63219,\n",
       " 'groped': 24886,\n",
       " '2005': 396,\n",
       " 'weiner': 62419,\n",
       " 'sext': 50686,\n",
       " 'donald groped': 17090,\n",
       " 'groped hillary': 24887,\n",
       " 'hillary 2005': 26049,\n",
       " '2005 trump': 397,\n",
       " 'trump weiner': 58597,\n",
       " 'weiner sext': 62435,\n",
       " 'donald groped hillary': 17091,\n",
       " 'groped hillary 2005': 24888,\n",
       " 'hillary 2005 trump': 26050,\n",
       " '2005 trump weiner': 398,\n",
       " 'trump weiner sext': 58598,\n",
       " 'exassistant': 19655,\n",
       " 'fbi': 20807,\n",
       " 'director': 16564,\n",
       " 'crime': 13900,\n",
       " 'family': 20556,\n",
       " 'exassistant fbi': 19656,\n",
       " 'fbi director': 20843,\n",
       " 'director clintons': 16567,\n",
       " 'clintons crime': 11449,\n",
       " 'crime family': 13904,\n",
       " 'exassistant fbi director': 19657,\n",
       " 'fbi director clintons': 20844,\n",
       " 'director clintons crime': 16568,\n",
       " 'clintons crime family': 11450,\n",
       " 'wants': 61615,\n",
       " 'aggressively': 2132,\n",
       " 'interventionist': 28686,\n",
       " 'foreign': 22381,\n",
       " 'policy': 42210,\n",
       " 'hillary wants': 26571,\n",
       " 'wants aggressively': 61619,\n",
       " 'aggressively interventionist': 2136,\n",
       " 'interventionist foreign': 28687,\n",
       " 'foreign policy': 22404,\n",
       " 'hillary wants aggressively': 26572,\n",
       " 'wants aggressively interventionist': 61620,\n",
       " 'aggressively interventionist foreign': 2137,\n",
       " 'interventionist foreign policy': 28688,\n",
       " 'parties': 40533,\n",
       " 'want': 61560,\n",
       " 'craft': 13774,\n",
       " 'populist': 42565,\n",
       " 'messages': 34999,\n",
       " 'parties want': 40540,\n",
       " 'want craft': 61566,\n",
       " 'craft populist': 13777,\n",
       " 'populist messages': 42566,\n",
       " 'messages 2016': 35000,\n",
       " 'parties want craft': 40541,\n",
       " 'want craft populist': 61567,\n",
       " 'craft populist messages': 13778,\n",
       " 'populist messages 2016': 42567,\n",
       " 'take': 54925,\n",
       " 'wall': 61496,\n",
       " 'street': 53666,\n",
       " 'bids': 6088,\n",
       " 'goodbye': 24270,\n",
       " 'june': 30167,\n",
       " 'hike': 26017,\n",
       " 'first take': 21835,\n",
       " 'take wall': 54980,\n",
       " 'wall street': 61507,\n",
       " 'street bids': 53669,\n",
       " 'bids goodbye': 6089,\n",
       " 'goodbye june': 24271,\n",
       " 'june hike': 30168,\n",
       " 'first take wall': 21837,\n",
       " 'take wall street': 54981,\n",
       " 'wall street bids': 61509,\n",
       " 'street bids goodbye': 53670,\n",
       " 'bids goodbye june': 6090,\n",
       " 'goodbye june hike': 24272,\n",
       " 'real': 45390,\n",
       " 'disclosure': 16665,\n",
       " 'secret': 49935,\n",
       " 'alien': 2459,\n",
       " 'base': 5293,\n",
       " 'found': 22545,\n",
       " 'moon': 35875,\n",
       " 'tycho': 59106,\n",
       " 'crater': 13816,\n",
       " 'real disclosure': 45398,\n",
       " 'disclosure secret': 16672,\n",
       " 'secret alien': 49936,\n",
       " 'alien base': 2460,\n",
       " 'base found': 5299,\n",
       " 'found moon': 22577,\n",
       " 'moon tycho': 35880,\n",
       " 'tycho crater': 59107,\n",
       " 'real disclosure secret': 45399,\n",
       " 'disclosure secret alien': 16673,\n",
       " 'secret alien base': 49937,\n",
       " 'alien base found': 2461,\n",
       " 'base found moon': 5300,\n",
       " 'found moon tycho': 22578,\n",
       " 'moon tycho crater': 35881,\n",
       " 'homeless': 26922,\n",
       " 'protects': 44051,\n",
       " 'walk': 61438,\n",
       " 'fame': 20533,\n",
       " 'star': 52928,\n",
       " 'violent': 60865,\n",
       " 'leftists': 31853,\n",
       " 'homeless woman': 26932,\n",
       " 'woman protects': 63231,\n",
       " 'protects trump': 44056,\n",
       " 'trump walk': 58583,\n",
       " 'walk fame': 61442,\n",
       " 'fame star': 20536,\n",
       " 'star violent': 52945,\n",
       " 'violent leftists': 60869,\n",
       " 'homeless woman protects': 26933,\n",
       " 'woman protects trump': 63232,\n",
       " 'protects trump walk': 44057,\n",
       " 'trump walk fame': 58584,\n",
       " 'walk fame star': 61444,\n",
       " 'fame star violent': 20541,\n",
       " 'star violent leftists': 52946,\n",
       " '320': 831,\n",
       " 'tweet': 58985,\n",
       " 'saturday': 49110,\n",
       " 'continues': 12927,\n",
       " 'mock': 35647,\n",
       " 'friday': 22953,\n",
       " 'meltdown': 34820,\n",
       " '320 tweet': 832,\n",
       " 'tweet storm': 58990,\n",
       " 'storm saturday': 53543,\n",
       " 'saturday clinton': 49113,\n",
       " 'clinton continues': 10844,\n",
       " 'continues mock': 12942,\n",
       " 'mock trump': 35650,\n",
       " 'trump friday': 57823,\n",
       " 'friday meltdown': 22955,\n",
       " '320 tweet storm': 833,\n",
       " 'tweet storm saturday': 58991,\n",
       " 'storm saturday clinton': 53544,\n",
       " 'saturday clinton continues': 49114,\n",
       " 'clinton continues mock': 10845,\n",
       " 'continues mock trump': 12943,\n",
       " 'mock trump friday': 35651,\n",
       " 'trump friday meltdown': 57824,\n",
       " '220': 693,\n",
       " 'significant': 51437,\n",
       " 'pipeline': 41510,\n",
       " 'spills': 52615,\n",
       " 'already': 2634,\n",
       " 'year': 63831,\n",
       " 'exposes': 20029,\n",
       " 'troubling': 57357,\n",
       " 'safety': 48756,\n",
       " 'record': 45736,\n",
       " '220 significant': 694,\n",
       " 'significant pipeline': 51440,\n",
       " 'pipeline spills': 41532,\n",
       " 'spills already': 52616,\n",
       " 'already year': 2666,\n",
       " 'year exposes': 63837,\n",
       " 'exposes troubling': 20050,\n",
       " 'troubling safety': 57360,\n",
       " 'safety record': 48757,\n",
       " '220 significant pipeline': 695,\n",
       " 'significant pipeline spills': 51441,\n",
       " 'pipeline spills already': 41533,\n",
       " 'spills already year': 52617,\n",
       " 'already year exposes': 2667,\n",
       " 'year exposes troubling': 63838,\n",
       " 'exposes troubling safety': 20051,\n",
       " 'troubling safety record': 57361,\n",
       " 'right': 47443,\n",
       " 'call': 8217,\n",
       " 'tough': 56798,\n",
       " 'afghanistan': 2019,\n",
       " 'obama makes': 38749,\n",
       " 'makes right': 33600,\n",
       " 'right call': 47452,\n",
       " 'call tough': 8253,\n",
       " 'tough afghanistan': 56799,\n",
       " 'obama makes right': 38753,\n",
       " 'makes right call': 33601,\n",
       " 'right call tough': 47453,\n",
       " 'call tough afghanistan': 8254,\n",
       " 'race': 44775,\n",
       " 'rankings': 45123,\n",
       " 'dems': 15917,\n",
       " 'attack': 4405,\n",
       " 'lays': 31461,\n",
       " 'swingstate': 54713,\n",
       " 'groundwork': 24909,\n",
       " 'senate race': 50336,\n",
       " 'race rankings': 44810,\n",
       " 'rankings dems': 45124,\n",
       " 'dems attack': 15918,\n",
       " 'attack gop': 4433,\n",
       " 'gop lays': 24434,\n",
       " 'lays swingstate': 31464,\n",
       " 'swingstate groundwork': 54714,\n",
       " 'senate race rankings': 50337,\n",
       " 'race rankings dems': 44811,\n",
       " 'rankings dems attack': 45125,\n",
       " 'dems attack gop': 15919,\n",
       " 'attack gop lays': 4434,\n",
       " 'gop lays swingstate': 24435,\n",
       " 'lays swingstate groundwork': 31465,\n",
       " 'boy': 7195,\n",
       " 'raped': 45147,\n",
       " 'court': 13612,\n",
       " 'throws': 56232,\n",
       " 'muslim': 36314,\n",
       " 'migrant': 35183,\n",
       " 'child': 9985,\n",
       " 'sex': 50641,\n",
       " 'charge': 9700,\n",
       " 'germans': 23576,\n",
       " 'shock': 50960,\n",
       " 'know boy': 30833,\n",
       " 'boy want': 7211,\n",
       " 'want raped': 61593,\n",
       " 'raped court': 45148,\n",
       " 'court throws': 13689,\n",
       " 'throws muslim': 56235,\n",
       " 'muslim migrant': 36342,\n",
       " 'migrant child': 35186,\n",
       " 'child sex': 10001,\n",
       " 'sex charge': 50653,\n",
       " 'charge germans': 9701,\n",
       " 'germans shock': 23577,\n",
       " 'know boy want': 30834,\n",
       " 'boy want raped': 7212,\n",
       " 'want raped court': 61594,\n",
       " 'raped court throws': 45149,\n",
       " 'court throws muslim': 13691,\n",
       " 'throws muslim migrant': 56236,\n",
       " 'muslim migrant child': 36343,\n",
       " 'migrant child sex': 35187,\n",
       " 'child sex charge': 10002,\n",
       " 'sex charge germans': 50654,\n",
       " 'charge germans shock': 9702,\n",
       " 'pieczenik': 41460,\n",
       " 'rogue': 47832,\n",
       " 'agents': 2108,\n",
       " 'wikileaks': 62771,\n",
       " 'spearheading': 52444,\n",
       " 'movement': 36091,\n",
       " 'stop': 53435,\n",
       " 'stealing': 53260,\n",
       " 'white': 62585,\n",
       " 'house': 27165,\n",
       " 'truthfeed': 58773,\n",
       " 'pieczenik rogue': 41461,\n",
       " 'rogue fbi': 47835,\n",
       " 'fbi agents': 20814,\n",
       " 'agents wikileaks': 2117,\n",
       " 'wikileaks spearheading': 62833,\n",
       " 'spearheading movement': 52445,\n",
       " 'movement stop': 36100,\n",
       " 'stop clintons': 53439,\n",
       " 'clintons stealing': 11476,\n",
       " 'stealing white': 53267,\n",
       " 'white house': 62605,\n",
       " 'house truthfeed': 27289,\n",
       " 'pieczenik rogue fbi': 41462,\n",
       " 'rogue fbi agents': 47836,\n",
       " 'fbi agents wikileaks': 20817,\n",
       " 'agents wikileaks spearheading': 2118,\n",
       " 'wikileaks spearheading movement': 62834,\n",
       " 'spearheading movement stop': 52446,\n",
       " 'movement stop clintons': 36101,\n",
       " 'stop clintons stealing': 53440,\n",
       " 'clintons stealing white': 11477,\n",
       " 'stealing white house': 53268,\n",
       " 'white house truthfeed': 62643,\n",
       " 'american': 2945,\n",
       " 'politics': 42349,\n",
       " 'reached': 45262,\n",
       " 'peak': 40966,\n",
       " 'polarization': 42044,\n",
       " 'american politics': 2991,\n",
       " 'politics reached': 42372,\n",
       " 'reached peak': 45266,\n",
       " 'peak polarization': 40967,\n",
       " 'american politics reached': 2994,\n",
       " 'politics reached peak': 42373,\n",
       " 'reached peak polarization': 45267,\n",
       " 'antimuhammad': 3574,\n",
       " 'cartoon': 9079,\n",
       " 'contest': 12879,\n",
       " 'free': 22836,\n",
       " 'speech': 52487,\n",
       " 'deliberately': 15599,\n",
       " 'provocative': 44242,\n",
       " 'antimuhammad cartoon': 3575,\n",
       " 'cartoon contest': 9080,\n",
       " 'contest free': 12881,\n",
       " 'free speech': 22857,\n",
       " 'speech deliberately': 52503,\n",
       " 'deliberately provocative': 15602,\n",
       " 'provocative video': 44243,\n",
       " 'antimuhammad cartoon contest': 3576,\n",
       " 'cartoon contest free': 9081,\n",
       " 'contest free speech': 12882,\n",
       " 'free speech deliberately': 22858,\n",
       " 'speech deliberately provocative': 52504,\n",
       " 'deliberately provocative video': 15603,\n",
       " 'effects': 18081,\n",
       " 'substance': 53980,\n",
       " 'abuse': 1346,\n",
       " 'individual': 28192,\n",
       " 'community': 12253,\n",
       " 'effects substance': 18084,\n",
       " 'substance abuse': 53981,\n",
       " 'abuse individual': 1349,\n",
       " 'individual family': 28193,\n",
       " 'family community': 20561,\n",
       " 'effects substance abuse': 18085,\n",
       " 'substance abuse individual': 53982,\n",
       " 'abuse individual family': 1350,\n",
       " 'individual family community': 28194,\n",
       " 'tree': 57134,\n",
       " 'shaped': 50791,\n",
       " 'vertical': 60506,\n",
       " 'farms': 20699,\n",
       " 'grow': 24943,\n",
       " '24': 715,\n",
       " 'acres': 1573,\n",
       " 'urban': 59740,\n",
       " 'crops': 14042,\n",
       " 'tree shaped': 57135,\n",
       " 'shaped vertical': 50794,\n",
       " 'vertical farms': 60507,\n",
       " 'farms grow': 20700,\n",
       " 'grow 24': 24944,\n",
       " '24 acres': 716,\n",
       " 'acres urban': 1576,\n",
       " 'urban crops': 59741,\n",
       " 'tree shaped vertical': 57136,\n",
       " 'shaped vertical farms': 50795,\n",
       " 'vertical farms grow': 60508,\n",
       " 'farms grow 24': 20701,\n",
       " ...}"
      ]
     },
     "execution_count": 27,
     "metadata": {},
     "output_type": "execute_result"
    }
   ],
   "source": [
    "vec.vocabulary_"
   ]
  },
  {
   "cell_type": "code",
   "execution_count": 28,
   "metadata": {},
   "outputs": [],
   "source": [
    "test_data = vec.transform(test['new_title'])"
   ]
  },
  {
   "cell_type": "code",
   "execution_count": 29,
   "metadata": {},
   "outputs": [],
   "source": [
    "X_train = train_data\n",
    "X_test = test_data\n",
    "y_train = train.label\n",
    "y_test = test.label"
   ]
  },
  {
   "cell_type": "code",
   "execution_count": 30,
   "metadata": {},
   "outputs": [],
   "source": [
    "mlp = MLPClassifier(activation='relu', learning_rate='adaptive', random_state =1, max_iter=100)"
   ]
  },
  {
   "cell_type": "code",
   "execution_count": 31,
   "metadata": {},
   "outputs": [
    {
     "data": {
      "text/plain": [
       "MLPClassifier(learning_rate='adaptive', max_iter=100, random_state=1)"
      ]
     },
     "execution_count": 31,
     "metadata": {},
     "output_type": "execute_result"
    }
   ],
   "source": [
    "mlp.fit(X_train, y_train)"
   ]
  },
  {
   "cell_type": "code",
   "execution_count": 32,
   "metadata": {},
   "outputs": [],
   "source": [
    "preds = mlp.predict(X_test)"
   ]
  },
  {
   "cell_type": "code",
   "execution_count": 33,
   "metadata": {},
   "outputs": [],
   "source": [
    "y_prob = mlp.predict_proba(X_test)"
   ]
  },
  {
   "cell_type": "code",
   "execution_count": 34,
   "metadata": {},
   "outputs": [
    {
     "data": {
      "text/plain": [
       "array([[9.77225898e-01, 2.27741022e-02],\n",
       "       [9.89210336e-01, 1.07896637e-02],\n",
       "       [9.70517031e-01, 2.94829687e-02],\n",
       "       ...,\n",
       "       [8.20897727e-04, 9.99179102e-01],\n",
       "       [8.66590660e-01, 1.33409340e-01],\n",
       "       [9.99690761e-01, 3.09238707e-04]])"
      ]
     },
     "execution_count": 34,
     "metadata": {},
     "output_type": "execute_result"
    }
   ],
   "source": [
    "y_prob"
   ]
  },
  {
   "cell_type": "code",
   "execution_count": 35,
   "metadata": {},
   "outputs": [],
   "source": [
    "from sklearn.metrics import accuracy_score\n",
    "from sklearn.metrics import classification_report, confusion_matrix\n",
    "from sklearn.metrics import roc_curve"
   ]
  },
  {
   "cell_type": "code",
   "execution_count": 36,
   "metadata": {},
   "outputs": [
    {
     "data": {
      "text/plain": [
       "0.8237885462555066"
      ]
     },
     "execution_count": 36,
     "metadata": {},
     "output_type": "execute_result"
    }
   ],
   "source": [
    "accuracy_score(y_test, preds)"
   ]
  },
  {
   "cell_type": "code",
   "execution_count": 37,
   "metadata": {},
   "outputs": [
    {
     "name": "stdout",
     "output_type": "stream",
     "text": [
      "              precision    recall  f1-score   support\n",
      "\n",
      "           0       0.80      0.85      0.82       545\n",
      "           1       0.85      0.80      0.83       590\n",
      "\n",
      "    accuracy                           0.82      1135\n",
      "   macro avg       0.82      0.82      0.82      1135\n",
      "weighted avg       0.83      0.82      0.82      1135\n",
      "\n"
     ]
    }
   ],
   "source": [
    "print(classification_report(y_test, preds))"
   ]
  },
  {
   "cell_type": "code",
   "execution_count": 38,
   "metadata": {},
   "outputs": [
    {
     "data": {
      "text/plain": [
       "Text(33.0, 0.5, 'Actual')"
      ]
     },
     "execution_count": 38,
     "metadata": {},
     "output_type": "execute_result"
    },
    {
     "data": {
      "image/png": "[encoded data removed]",
      "text/plain": [
       "<Figure size 432x288 with 1 Axes>"
      ]
     },
     "metadata": {
      "needs_background": "light"
     },
     "output_type": "display_data"
    }
   ],
   "source": [
    "c = confusion_matrix(y_test, preds)\n",
    "ax = sns.heatmap(c, annot=True, xticklabels=['Fake','Real'],yticklabels=['Fake','Real'],cbar=False)\n",
    "ax.set_xlabel('Prediction')\n",
    "ax.set_ylabel('Actual')"
   ]
  },
  {
   "cell_type": "code",
   "execution_count": 39,
   "metadata": {},
   "outputs": [
    {
     "data": {
      "text/plain": [
       "array([[461,  84],\n",
       "       [116, 474]], dtype=int64)"
      ]
     },
     "execution_count": 39,
     "metadata": {},
     "output_type": "execute_result"
    }
   ],
   "source": [
    "confusion_matrix(y_test, preds)"
   ]
  },
  {
   "cell_type": "code",
   "execution_count": 40,
   "metadata": {},
   "outputs": [],
   "source": [
    "FPR, TPR, _ = roc_curve(y_test, preds)"
   ]
  },
  {
   "cell_type": "code",
   "execution_count": 41,
   "metadata": {},
   "outputs": [
    {
     "data": {
      "text/plain": [
       "Text(0, 0.5, 'TPR')"
      ]
     },
     "execution_count": 41,
     "metadata": {},
     "output_type": "execute_result"
    },
    {
     "data": {
      "image/png": "[encoded data removed]",
      "text/plain": [
       "<Figure size 432x288 with 1 Axes>"
      ]
     },
     "metadata": {
      "needs_background": "light"
     },
     "output_type": "display_data"
    }
   ],
   "source": [
    "## https://www.displayr.com/what-is-a-roc-curve-how-to-interpret-it/\n",
    "plt.plot(FPR, TPR)\n",
    "plt.xlabel('FPR')\n",
    "plt.ylabel('TPR')"
   ]
  },
  {
   "cell_type": "code",
   "execution_count": 42,
   "metadata": {},
   "outputs": [],
   "source": [
    "def predict(x):\n",
    "    x = vec.transform([x])\n",
    "    x = x.toarray()\n",
    "    pred = mlp.predict(x)\n",
    "    return pred    "
   ]
  },
  {
   "cell_type": "code",
   "execution_count": 43,
   "metadata": {},
   "outputs": [
    {
     "data": {
      "text/plain": [
       "array([1], dtype=int64)"
      ]
     },
     "execution_count": 43,
     "metadata": {},
     "output_type": "execute_result"
    }
   ],
   "source": [
    "predict('donald trump wins election')"
   ]
  },
  {
   "cell_type": "code",
   "execution_count": 44,
   "metadata": {},
   "outputs": [
    {
     "data": {
      "text/plain": [
       "array([0], dtype=int64)"
      ]
     },
     "execution_count": 44,
     "metadata": {},
     "output_type": "execute_result"
    }
   ],
   "source": [
    "predict('reports on debate tonight')"
   ]
  },
  {
   "cell_type": "code",
   "execution_count": 45,
   "metadata": {},
   "outputs": [
    {
     "data": {
      "text/plain": [
       "array([1], dtype=int64)"
      ]
     },
     "execution_count": 45,
     "metadata": {},
     "output_type": "execute_result"
    }
   ],
   "source": [
    "predict('drinking bleach cures covid')"
   ]
  },
  {
   "cell_type": "code",
   "execution_count": 46,
   "metadata": {},
   "outputs": [
    {
     "data": {
      "text/plain": [
       "array([0], dtype=int64)"
      ]
     },
     "execution_count": 46,
     "metadata": {},
     "output_type": "execute_result"
    }
   ],
   "source": [
    "#when i changed this from is or isis to the islamic state it went from fake to real\n",
    "predict('islamic state spreads across north africa')"
   ]
  },
  {
   "cell_type": "code",
   "execution_count": 47,
   "metadata": {},
   "outputs": [
    {
     "data": {
      "text/plain": [
       "array([0], dtype=int64)"
      ]
     },
     "execution_count": 47,
     "metadata": {},
     "output_type": "execute_result"
    }
   ],
   "source": [
    "predict('al shabab getting weaker')"
   ]
  },
  {
   "cell_type": "code",
   "execution_count": 48,
   "metadata": {},
   "outputs": [
    {
     "data": {
      "text/plain": [
       "array([1], dtype=int64)"
      ]
     },
     "execution_count": 48,
     "metadata": {},
     "output_type": "execute_result"
    }
   ],
   "source": [
    "predict('monkey pox america')"
   ]
  },
  {
   "cell_type": "code",
   "execution_count": 49,
   "metadata": {},
   "outputs": [
    {
     "data": {
      "text/plain": [
       "array([1], dtype=int64)"
      ]
     },
     "execution_count": 49,
     "metadata": {},
     "output_type": "execute_result"
    }
   ],
   "source": [
    "predict('russia commits war crimes')"
   ]
  },
  {
   "cell_type": "code",
   "execution_count": null,
   "metadata": {},
   "outputs": [],
   "source": []
  },
  {
   "cell_type": "code",
   "execution_count": 51,
   "metadata": {},
   "outputs": [],
   "source": [
    "import pickle\n",
    "filename = 'mlp_model'\n",
    "pickle.dump(mlp,open(filename, 'wb'))"
   ]
  },
  {
   "cell_type": "code",
   "execution_count": 52,
   "metadata": {},
   "outputs": [],
   "source": [
    "filename2 = 'tfidfunigrams_trigrams_model'\n",
    "pickle.dump(vec,open(filename2, 'wb'))"
   ]
  },
  {
   "cell_type": "code",
   "execution_count": null,
   "metadata": {},
   "outputs": [],
   "source": []
  }
 ],
 "metadata": {
  "kernelspec": {
   "display_name": "Python 3",
   "language": "python",
   "name": "python3"
  },
  "language_info": {
   "codemirror_mode": {
    "name": "ipython",
    "version": 3
   },
   "file_extension": ".py",
   "mimetype": "text/x-python",
   "name": "python",
   "nbconvert_exporter": "python",
   "pygments_lexer": "ipython3",
   "version": "3.7.4"
  }
 },
 "nbformat": 4,
 "nbformat_minor": 2
}
